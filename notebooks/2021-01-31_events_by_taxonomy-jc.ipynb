{
 "cells": [
  {
   "cell_type": "code",
   "execution_count": null,
   "metadata": {},
   "outputs": [],
   "source": [
    "import pandas as pd\n",
    "import numpy as np\n",
    "import matplotlib.pyplot as plt\n",
    "import seaborn as sns\n",
    "from datetime import timedelta\n",
    "import tqdm\n",
    "import pickle\n",
    "import math\n",
    "\n",
    "pd.set_option('display.max_columns', None)"
   ]
  },
  {
   "cell_type": "code",
   "execution_count": null,
   "metadata": {},
   "outputs": [],
   "source": [
    "mobile = pd.read_csv('Z:\\\\event_mobile_ppl.tsv', sep='\\t',\n",
    "                    dtype={'account_id': str, 'content_section.1': str, 'download_link': str, 'role': str,\n",
    "                         'get-legal-help': str, 'keywords': str, 'Outgoing_link': str, 'Language': str,\n",
    "                         'legal_position': str}, \n",
    "                     parse_dates=['event_date'],\n",
    "                     index_col='event_id')"
   ]
  },
  {
   "cell_type": "code",
   "execution_count": null,
   "metadata": {},
   "outputs": [],
   "source": [
    "np.sum(~mobile.content_section.isna())/len(mobile)"
   ]
  },
  {
   "cell_type": "code",
   "execution_count": null,
   "metadata": {},
   "outputs": [],
   "source": [
    "mobile_contsect = mobile[~mobile['content_section'].isna()].copy()"
   ]
  },
  {
   "cell_type": "code",
   "execution_count": null,
   "metadata": {},
   "outputs": [],
   "source": [
    "event_pairs = mobile_contsect.groupby('person_id').agg({'content_section': lambda x: set(tuple((a, b)) for a in x for b in x if a < b)})"
   ]
  },
  {
   "cell_type": "code",
   "execution_count": null,
   "metadata": {},
   "outputs": [],
   "source": [
    "event_pairs"
   ]
  },
  {
   "cell_type": "code",
   "execution_count": null,
   "metadata": {},
   "outputs": [],
   "source": [
    "all_pairs = [x for a in event_pairs.content_section for x in list(a)]"
   ]
  },
  {
   "cell_type": "code",
   "execution_count": null,
   "metadata": {},
   "outputs": [],
   "source": [
    "from collections import Counter"
   ]
  },
  {
   "cell_type": "code",
   "execution_count": null,
   "metadata": {},
   "outputs": [],
   "source": [
    "Counter(mobile_contsect.content_section).most_common()"
   ]
  },
  {
   "cell_type": "code",
   "execution_count": null,
   "metadata": {},
   "outputs": [],
   "source": [
    "pair_counts = Counter(all_pairs)"
   ]
  },
  {
   "cell_type": "code",
   "execution_count": null,
   "metadata": {},
   "outputs": [],
   "source": [
    "pair_counts.most_common()"
   ]
  },
  {
   "cell_type": "code",
   "execution_count": null,
   "metadata": {},
   "outputs": [],
   "source": [
    "mobile_contsect['content_date'] = list(zip(*[mobile_contsect[c] for c in ['content_section', 'event_date']]))"
   ]
  },
  {
   "cell_type": "code",
   "execution_count": null,
   "metadata": {},
   "outputs": [],
   "source": [
    "not_procedure = mobile_contsect[mobile_contsect.content_section != 'Procedure']"
   ]
  },
  {
   "cell_type": "code",
   "execution_count": null,
   "metadata": {},
   "outputs": [],
   "source": [
    "event_pairs = not_procedure.groupby('person_id').agg({'content_section': lambda x: set(tuple((a, b)) for a in x for b in x if a < b)})\n",
    "all_pairs = [x for a in event_pairs.content_section for x in list(a)]\n",
    "pair_counts = Counter(all_pairs)\n",
    "pair_counts.most_common()"
   ]
  },
  {
   "cell_type": "code",
   "execution_count": null,
   "metadata": {},
   "outputs": [],
   "source": [
    "event_date = mobile_contsect.groupby('person_id').agg({'content_date': \n",
    "                                              lambda x: set(tuple((a[0], b[0])) for a in x for b in x \n",
    "                                                            if ((b[1] - a[1] > pd.Timedelta('24:00:00')) and\n",
    "                                                               (a[0] != b[0])))})"
   ]
  },
  {
   "cell_type": "code",
   "execution_count": null,
   "metadata": {},
   "outputs": [],
   "source": [
    "pair_causal_counts = Counter([x for a in event_date.content_date for x in list(a)])"
   ]
  },
  {
   "cell_type": "code",
   "execution_count": null,
   "metadata": {},
   "outputs": [],
   "source": [
    "pair_causal_counts.most_common()"
   ]
  },
  {
   "cell_type": "code",
   "execution_count": null,
   "metadata": {},
   "outputs": [],
   "source": [
    "event_date = not_procedure.groupby('person_id').agg({'content_date': \n",
    "                                              lambda x: set(tuple((a[0], b[0])) for a in x for b in x \n",
    "                                                            if ((b[1] - a[1] > pd.Timedelta('24:00:00')) and\n",
    "                                                               (a[0] != b[0])))})"
   ]
  },
  {
   "cell_type": "code",
   "execution_count": null,
   "metadata": {},
   "outputs": [],
   "source": [
    "pair_causal_counts = Counter([x for a in event_date.content_date for x in list(a)])\n",
    "pair_causal_counts.most_common()"
   ]
  },
  {
   "cell_type": "code",
   "execution_count": null,
   "metadata": {},
   "outputs": [],
   "source": [
    "event_date = not_procedure.groupby('person_id').agg({'content_date': \n",
    "                                              lambda x: set(tuple((a[0], b[0])) for a in x for b in x \n",
    "                                                            if ((b[1] - a[1] > 7*pd.Timedelta('24:00:00')) and\n",
    "                                                               (a[0] != b[0])))})"
   ]
  },
  {
   "cell_type": "code",
   "execution_count": null,
   "metadata": {},
   "outputs": [],
   "source": [
    "pair_causal_counts = Counter([x for a in event_date.content_date for x in list(a)])\n",
    "pair_causal_counts.most_common()"
   ]
  },
  {
   "cell_type": "code",
   "execution_count": null,
   "metadata": {},
   "outputs": [],
   "source": [
    "mobile_counts_7d = pd.DataFrame.from_dict(pair_causal_counts, orient='index')"
   ]
  },
  {
   "cell_type": "code",
   "execution_count": null,
   "metadata": {},
   "outputs": [],
   "source": [
    "mobile_counts_7d.columns = ['counts_mobile']"
   ]
  },
  {
   "cell_type": "code",
   "execution_count": null,
   "metadata": {},
   "outputs": [],
   "source": [
    "business = pd.read_csv('Z:\\\\event_desktop_business_ppl.tsv', sep='\\t',\n",
    "                    dtype={'account_id': str, 'content_section.1': str, 'download_link': str, 'role': str,\n",
    "                         'get-legal-help': str, 'keywords': str, 'Outgoing_link': str, 'Language': str,\n",
    "                         'legal_position': str}, \n",
    "                     parse_dates=['event_date'],\n",
    "                     index_col='event_id')"
   ]
  },
  {
   "cell_type": "code",
   "execution_count": null,
   "metadata": {},
   "outputs": [],
   "source": [
    "business_contsect = business[~business['content_section'].isna()].copy()\n",
    "len(business_contsect)/len(business)"
   ]
  },
  {
   "cell_type": "code",
   "execution_count": null,
   "metadata": {},
   "outputs": [],
   "source": []
  },
  {
   "cell_type": "code",
   "execution_count": null,
   "metadata": {
    "scrolled": true
   },
   "outputs": [],
   "source": [
    "Counter(business_contsect.content_section).most_common()"
   ]
  },
  {
   "cell_type": "code",
   "execution_count": null,
   "metadata": {},
   "outputs": [],
   "source": [
    "event_pairs = business_contsect.groupby('person_id').agg({'content_section': \n",
    "                                                          lambda x: set(tuple((a, b)) for a in x for b in x if a < b)})\n",
    "all_pairs = [x for a in event_pairs.content_section for x in list(a)]\n",
    "pair_counts = Counter(all_pairs)\n",
    "pair_counts.most_common()"
   ]
  },
  {
   "cell_type": "code",
   "execution_count": null,
   "metadata": {},
   "outputs": [],
   "source": [
    "business_contsect['content_date'] = list(zip(*[business_contsect[c] for c in ['content_section', 'event_date']]))"
   ]
  },
  {
   "cell_type": "code",
   "execution_count": null,
   "metadata": {},
   "outputs": [],
   "source": [
    "business_not_procedure = business_contsect[business_contsect.content_section != 'Procedure']"
   ]
  },
  {
   "cell_type": "code",
   "execution_count": null,
   "metadata": {},
   "outputs": [],
   "source": [
    "event_pairs = business_not_procedure.groupby('person_id').agg({'content_section': \n",
    "                                                          lambda x: set(tuple((a, b)) for a in x for b in x if a < b)})\n",
    "all_pairs = [x for a in event_pairs.content_section for x in list(a)]\n",
    "pair_counts = Counter(all_pairs)\n",
    "pair_counts.most_common()"
   ]
  },
  {
   "cell_type": "code",
   "execution_count": null,
   "metadata": {},
   "outputs": [],
   "source": [
    "event_date = business_not_procedure.groupby('person_id').agg({'content_date': \n",
    "                                              lambda x: set(tuple((a[0], b[0])) for a in x for b in x \n",
    "                                                            if ((b[1] - a[1] > pd.Timedelta('24:00:00')) and\n",
    "                                                               (a[0] != b[0])))})\n",
    "pair_causal_counts = Counter([x for a in event_date.content_date for x in list(a)])\n",
    "pair_causal_counts.most_common()"
   ]
  },
  {
   "cell_type": "code",
   "execution_count": null,
   "metadata": {},
   "outputs": [],
   "source": [
    "event_date = business_not_procedure.groupby('person_id').agg({'content_date': \n",
    "                                              lambda x: set(tuple((a[0], b[0])) for a in x for b in x \n",
    "                                                            if ((b[1] - a[1] > 7*pd.Timedelta('24:00:00')) and\n",
    "                                                               (a[0] != b[0])))})\n",
    "pair_causal_counts = Counter([x for a in event_date.content_date for x in list(a)])\n",
    "pair_causal_counts.most_common()"
   ]
  },
  {
   "cell_type": "code",
   "execution_count": null,
   "metadata": {},
   "outputs": [],
   "source": [
    "business_counts_7d = pd.DataFrame.from_dict(pair_causal_counts, orient='index')"
   ]
  },
  {
   "cell_type": "code",
   "execution_count": null,
   "metadata": {},
   "outputs": [],
   "source": [
    "business_counts_7d.columns = ['counts_business']"
   ]
  },
  {
   "cell_type": "code",
   "execution_count": null,
   "metadata": {},
   "outputs": [],
   "source": [
    "business_counts_7d"
   ]
  },
  {
   "cell_type": "code",
   "execution_count": null,
   "metadata": {},
   "outputs": [],
   "source": [
    "mobile_counts_7d"
   ]
  },
  {
   "cell_type": "code",
   "execution_count": null,
   "metadata": {},
   "outputs": [],
   "source": [
    "counts = mobile_counts_7d.join(business_counts_7d, how='inner')"
   ]
  },
  {
   "cell_type": "code",
   "execution_count": null,
   "metadata": {},
   "outputs": [],
   "source": [
    "counts['mobile_ratio'] = counts['counts_mobile']/counts.counts_mobile.sum()"
   ]
  },
  {
   "cell_type": "code",
   "execution_count": null,
   "metadata": {},
   "outputs": [],
   "source": [
    "counts['business_ratio'] = counts['counts_business']/counts.counts_business.sum()"
   ]
  },
  {
   "cell_type": "code",
   "execution_count": null,
   "metadata": {},
   "outputs": [],
   "source": [
    "counts['diff'] = counts['mobile_ratio'] - counts['business_ratio']"
   ]
  },
  {
   "cell_type": "code",
   "execution_count": null,
   "metadata": {
    "scrolled": false
   },
   "outputs": [],
   "source": [
    "counts.sort_values(by='diff')"
   ]
  },
  {
   "cell_type": "code",
   "execution_count": null,
   "metadata": {},
   "outputs": [],
   "source": [
    "counts.to_csv('Z:\\\\diff_counts.tsv', sep='\\t')"
   ]
  },
  {
   "cell_type": "code",
   "execution_count": null,
   "metadata": {},
   "outputs": [],
   "source": []
  }
 ],
 "metadata": {
  "kernelspec": {
   "display_name": "Python 3",
   "language": "python",
   "name": "python3"
  },
  "language_info": {
   "codemirror_mode": {
    "name": "ipython",
    "version": 3
   },
   "file_extension": ".py",
   "mimetype": "text/x-python",
   "name": "python",
   "nbconvert_exporter": "python",
   "pygments_lexer": "ipython3",
   "version": "3.8.5"
  }
 },
 "nbformat": 4,
 "nbformat_minor": 4
}
