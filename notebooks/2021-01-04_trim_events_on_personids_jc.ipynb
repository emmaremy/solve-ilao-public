{
 "cells": [
  {
   "cell_type": "code",
   "execution_count": null,
   "metadata": {},
   "outputs": [],
   "source": [
    "import pandas as pd\n",
    "import numpy as np\n",
    "import matplotlib.pyplot as plt\n",
    "import seaborn as sns\n",
    "import dask\n",
    "dask.config.set({'temporary_directory': 'Z:/tmp'})\n",
    "import dask.dataframe as dd\n",
    "\n",
    "from datetime import timedelta\n",
    "import tqdm\n",
    "import pickle\n",
    "import math\n",
    "\n",
    "pd.set_option('display.max_columns', None)"
   ]
  },
  {
   "cell_type": "code",
   "execution_count": null,
   "metadata": {},
   "outputs": [],
   "source": [
    "event_headers = pd.read_csv('../data/raw/acquia_samples/scripts-headers/event-headers.txt', delimiter='\\t')\n",
    "event_columns = event_headers.columns\n",
    "event_columns = [col for col in event_columns] + [f'extra_{i}' for i in range(1, 7)]"
   ]
  },
  {
   "cell_type": "code",
   "execution_count": null,
   "metadata": {},
   "outputs": [],
   "source": [
    "event_columns[47]"
   ]
  },
  {
   "cell_type": "code",
   "execution_count": null,
   "metadata": {},
   "outputs": [],
   "source": [
    "event = dd.read_csv('Z:\\\\event_fixed.tsv', sep='\\t', names=event_columns,\n",
    "                   dtype={'account_id': str, 'content_section.1': str, 'download_link': str, 'role': str,\n",
    "                         'get-legal-help': str, 'keywords': str, 'Outgoing_link': str, 'Language': str,\n",
    "                         'legal_position': str}).set_index('event_id')"
   ]
  },
  {
   "cell_type": "code",
   "execution_count": null,
   "metadata": {},
   "outputs": [],
   "source": [
    "drop_columns = ([f'extra_{i}' for i in range(1, 7)]+\n",
    "                ['empty']+\n",
    "                [f'empty{i}' for i in range(2, 8)]+\n",
    "                [f'empty{i}' for i in range(10, 12)]+\n",
    "                [f'empty{i}' for i in range(15, 28)]+\n",
    "                [f'Unnamed: {i}' for i in range(60, 103)]+\n",
    "                [f'Unnamed: {i}' for i in range(104, 108)])\n",
    "\n",
    "event = event.drop(drop_columns, axis=1)"
   ]
  },
  {
   "cell_type": "code",
   "execution_count": null,
   "metadata": {},
   "outputs": [],
   "source": [
    "people = pd.read_csv(\"Z:\\\\people_business_desktop.tsv\", sep='\\t')\n",
    "people"
   ]
  },
  {
   "cell_type": "code",
   "execution_count": null,
   "metadata": {},
   "outputs": [],
   "source": [
    "people_ids = people['person_id']"
   ]
  },
  {
   "cell_type": "code",
   "execution_count": null,
   "metadata": {},
   "outputs": [],
   "source": [
    "people_ids"
   ]
  },
  {
   "cell_type": "code",
   "execution_count": null,
   "metadata": {},
   "outputs": [],
   "source": [
    "event_people_ids = event['person_id'].compute()"
   ]
  },
  {
   "cell_type": "code",
   "execution_count": null,
   "metadata": {},
   "outputs": [],
   "source": [
    "event = event[event_people_ids.isin(people_ids)]"
   ]
  },
  {
   "cell_type": "code",
   "execution_count": null,
   "metadata": {},
   "outputs": [],
   "source": [
    "len(event)"
   ]
  },
  {
   "cell_type": "code",
   "execution_count": null,
   "metadata": {},
   "outputs": [],
   "source": [
    "event.head()"
   ]
  },
  {
   "cell_type": "code",
   "execution_count": null,
   "metadata": {},
   "outputs": [],
   "source": [
    "event.to_csv(\"Z:\\\\event_selected\\\\*.tsv\", sep='\\t')"
   ]
  },
  {
   "cell_type": "code",
   "execution_count": null,
   "metadata": {},
   "outputs": [],
   "source": [
    "event = dd.read_csv('Z:\\\\event_selected\\\\*.tsv', sep='\\t',\n",
    "                    dtype={'account_id': str, 'content_section.1': str, 'download_link': str, 'role': str,\n",
    "                         'get-legal-help': str, 'keywords': str, 'Outgoing_link': str, 'Language': str,\n",
    "                         'legal_position': str}).set_index('event_id')"
   ]
  },
  {
   "cell_type": "code",
   "execution_count": null,
   "metadata": {},
   "outputs": [],
   "source": [
    "touch_busydesk = pd.read_csv(\"Z:\\\\people_business_desktop.tsv\", sep='\\t')\n",
    "touch_busydesk.set_index('person_id', inplace=True)"
   ]
  },
  {
   "cell_type": "code",
   "execution_count": null,
   "metadata": {},
   "outputs": [],
   "source": [
    "touch_busydesk"
   ]
  },
  {
   "cell_type": "code",
   "execution_count": null,
   "metadata": {},
   "outputs": [],
   "source": [
    "mostly_desktop = (touch_busydesk['is_desktop'] > .5)\n",
    "desktop_ppl = touch_busydesk[mostly_desktop].index.values"
   ]
  },
  {
   "cell_type": "code",
   "execution_count": null,
   "metadata": {},
   "outputs": [],
   "source": [
    "len(desktop_ppl)"
   ]
  },
  {
   "cell_type": "code",
   "execution_count": null,
   "metadata": {},
   "outputs": [],
   "source": [
    "desktop_events = event[event['person_id'].isin(desktop_ppl)].compute()\n",
    "desktop_events.to_csv(\"Z:\\\\event_desktop_ppl2.tsv\", sep='\\t')"
   ]
  },
  {
   "cell_type": "code",
   "execution_count": null,
   "metadata": {},
   "outputs": [],
   "source": [
    "len(desktop_events)"
   ]
  },
  {
   "cell_type": "code",
   "execution_count": null,
   "metadata": {},
   "outputs": [],
   "source": [
    "mobile_events = event[~event['person_id'].isin(desktop_ppl)].compute()\n",
    "mobile_events.to_csv(\"Z:\\\\event_mobile_ppl2.tsv\", sep='\\t')"
   ]
  },
  {
   "cell_type": "code",
   "execution_count": null,
   "metadata": {},
   "outputs": [],
   "source": [
    "len(mobile_events)"
   ]
  },
  {
   "cell_type": "code",
   "execution_count": null,
   "metadata": {},
   "outputs": [],
   "source": [
    "is_professional = (touch_busydesk['business_hours'] > .5) & (touch_busydesk['is_desktop'] > .5)\n",
    "professionals = touch_busydesk[is_professional].index.values\n",
    "professional_events = event[event['person_id'].isin(professionals)].compute()\n",
    "professional_events.to_csv(\"Z:\\\\event_professionals2.tsv\", sep='\\t')"
   ]
  },
  {
   "cell_type": "code",
   "execution_count": null,
   "metadata": {},
   "outputs": [],
   "source": [
    "len(professional_events)"
   ]
  },
  {
   "cell_type": "code",
   "execution_count": null,
   "metadata": {},
   "outputs": [],
   "source": [
    "nonprofessional_events = event[~event['person_id'].isin(professionals)].compute()\n",
    "nonprofessional_events.to_csv(\"Z:\\\\event_nonprofessionals2.tsv\", sep='\\t')"
   ]
  },
  {
   "cell_type": "code",
   "execution_count": null,
   "metadata": {},
   "outputs": [],
   "source": [
    "len(nonprofessional_events)"
   ]
  },
  {
   "cell_type": "code",
   "execution_count": null,
   "metadata": {},
   "outputs": [],
   "source": []
  }
 ],
 "metadata": {
  "kernelspec": {
   "display_name": "Python 3",
   "language": "python",
   "name": "python3"
  },
  "language_info": {
   "codemirror_mode": {
    "name": "ipython",
    "version": 3
   },
   "file_extension": ".py",
   "mimetype": "text/x-python",
   "name": "python",
   "nbconvert_exporter": "python",
   "pygments_lexer": "ipython3",
   "version": "3.8.5"
  }
 },
 "nbformat": 4,
 "nbformat_minor": 4
}
