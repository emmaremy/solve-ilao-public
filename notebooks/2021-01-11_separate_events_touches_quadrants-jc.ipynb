{
 "cells": [
  {
   "cell_type": "code",
   "execution_count": null,
   "metadata": {},
   "outputs": [],
   "source": [
    "import pandas as pd\n",
    "import numpy as np\n",
    "import seaborn as sns\n",
    "import matplotlib.pyplot as plt"
   ]
  },
  {
   "cell_type": "code",
   "execution_count": null,
   "metadata": {},
   "outputs": [],
   "source": [
    "mobile = pd.read_csv('Z:\\\\event_mobile_ppl.tsv', sep='\\t',\n",
    "                    dtype={'account_id': str, 'content_section.1': str, 'download_link': str, 'role': str,\n",
    "                         'get-legal-help': str, 'keywords': str, 'Outgoing_link': str, 'Language': str,\n",
    "                         'legal_position': str})"
   ]
  },
  {
   "cell_type": "code",
   "execution_count": null,
   "metadata": {},
   "outputs": [],
   "source": [
    "business = pd.read_csv(\"Z:\\\\people_business_desktop.tsv\", sep='\\t')"
   ]
  },
  {
   "cell_type": "code",
   "execution_count": null,
   "metadata": {},
   "outputs": [],
   "source": [
    "business = business.set_index('person_id')"
   ]
  },
  {
   "cell_type": "code",
   "execution_count": null,
   "metadata": {},
   "outputs": [],
   "source": [
    "is_business = (business['business_hours'] > .5)\n",
    "is_business = is_business[is_business].index.values"
   ]
  },
  {
   "cell_type": "code",
   "execution_count": null,
   "metadata": {},
   "outputs": [],
   "source": [
    "len(is_business)"
   ]
  },
  {
   "cell_type": "code",
   "execution_count": null,
   "metadata": {},
   "outputs": [],
   "source": [
    "mobile_business = mobile[mobile['person_id'].isin(is_business)]\n",
    "mobile_business.to_csv(\"Z:\\\\event_mobile_business_ppl.tsv\", sep='\\t')"
   ]
  },
  {
   "cell_type": "code",
   "execution_count": null,
   "metadata": {},
   "outputs": [],
   "source": [
    "len(mobile_business)"
   ]
  },
  {
   "cell_type": "code",
   "execution_count": null,
   "metadata": {},
   "outputs": [],
   "source": [
    "mobile_not_business = mobile[~mobile['person_id'].isin(is_business)]\n",
    "mobile_not_business.to_csv(\"Z:\\\\event_mobile_night_ppl.tsv\", sep='\\t')"
   ]
  },
  {
   "cell_type": "code",
   "execution_count": null,
   "metadata": {},
   "outputs": [],
   "source": [
    "len(mobile_not_business)"
   ]
  },
  {
   "cell_type": "code",
   "execution_count": null,
   "metadata": {},
   "outputs": [],
   "source": [
    "desktop = pd.read_csv('Z:\\\\event_desktop_ppl.tsv', sep='\\t',\n",
    "                    dtype={'account_id': str, 'content_section.1': str, 'download_link': str, 'role': str,\n",
    "                         'get-legal-help': str, 'keywords': str, 'Outgoing_link': str, 'Language': str,\n",
    "                         'legal_position': str})"
   ]
  },
  {
   "cell_type": "code",
   "execution_count": null,
   "metadata": {},
   "outputs": [],
   "source": [
    "desktop_business = desktop[desktop['person_id'].isin(is_business)]\n",
    "desktop_business.to_csv(\"Z:\\\\event_desktop_business_ppl.tsv\", sep='\\t')"
   ]
  },
  {
   "cell_type": "code",
   "execution_count": null,
   "metadata": {},
   "outputs": [],
   "source": [
    "desktop_not_business = desktop[~desktop['person_id'].isin(is_business)]\n",
    "desktop_not_business.to_csv(\"Z:\\\\event_desktop_night_ppl.tsv\", sep='\\t')"
   ]
  },
  {
   "cell_type": "code",
   "execution_count": null,
   "metadata": {},
   "outputs": [],
   "source": [
    "len(mobile_business)"
   ]
  },
  {
   "cell_type": "code",
   "execution_count": null,
   "metadata": {},
   "outputs": [],
   "source": [
    "len(mobile_not_business)"
   ]
  },
  {
   "cell_type": "code",
   "execution_count": null,
   "metadata": {},
   "outputs": [],
   "source": [
    "len(desktop_business)"
   ]
  },
  {
   "cell_type": "code",
   "execution_count": null,
   "metadata": {},
   "outputs": [],
   "source": [
    "len(desktop_not_business)"
   ]
  },
  {
   "cell_type": "code",
   "execution_count": null,
   "metadata": {},
   "outputs": [],
   "source": [
    "touch = pd.read_csv('Z:\\\\touch_multiple_deduped.tsv', sep='\\t',\n",
    "                    dtype={'utm_medium':str, 'utm_terms':str, 'utm_content':str, 'utm_name':str, 'url_domain':str,\n",
    "                          'dma_code':str, 'postal_code': str, 'search_terms': str, 'touch_duration.1': 'float64'},\n",
    "                    index_col='id')"
   ]
  },
  {
   "cell_type": "code",
   "execution_count": null,
   "metadata": {},
   "outputs": [],
   "source": [
    "is_mobile_business = (business['business_hours'] > .5) & ~(business['is_desktop'] > .5)\n",
    "is_mobile_business = is_mobile_business[is_mobile_business].index.values\n",
    "\n",
    "touch_mobile_business = touch[touch['person_id'].isin(is_mobile_business)]\n",
    "touch_mobile_business.to_csv(\"Z:\\\\touch_mobile_business_ppl.tsv\", sep='\\t')\n",
    "len(touch_mobile_business)"
   ]
  },
  {
   "cell_type": "code",
   "execution_count": null,
   "metadata": {},
   "outputs": [],
   "source": [
    "is_desktop_business = (business['business_hours'] > .5) & (business['is_desktop'] > .5)\n",
    "is_desktop_business = is_desktop_business[is_desktop_business].index.values\n",
    "\n",
    "touch_desktop_business = touch[touch['person_id'].isin(is_desktop_business)]\n",
    "touch_desktop_business.to_csv(\"Z:\\\\touch_desktop_business_ppl.tsv\", sep='\\t')\n",
    "len(touch_desktop_business)"
   ]
  },
  {
   "cell_type": "code",
   "execution_count": null,
   "metadata": {},
   "outputs": [],
   "source": [
    "is_mobile_night = ~(business['business_hours'] > .5) & ~(business['is_desktop'] > .5)\n",
    "is_mobile_night = is_mobile_night[is_mobile_night].index.values\n",
    "\n",
    "touch_mobile_night = touch[touch['person_id'].isin(is_mobile_night)]\n",
    "touch_mobile_night.to_csv(\"Z:\\\\touch_mobile_night_ppl.tsv\", sep='\\t')\n",
    "len(touch_mobile_night)"
   ]
  },
  {
   "cell_type": "code",
   "execution_count": null,
   "metadata": {},
   "outputs": [],
   "source": [
    "is_desktop_night = ~(business['business_hours'] > .5) & (business['is_desktop'] > .5)\n",
    "is_desktop_night = is_desktop_night[is_desktop_night].index.values\n",
    "\n",
    "touch_desktop_night = touch[touch['person_id'].isin(is_desktop_night)]\n",
    "touch_desktop_night.to_csv(\"Z:\\\\touch_desktop_night_ppl.tsv\", sep='\\t')\n",
    "len(touch_desktop_night)"
   ]
  },
  {
   "cell_type": "code",
   "execution_count": null,
   "metadata": {},
   "outputs": [],
   "source": [
    "len(touch)"
   ]
  },
  {
   "cell_type": "code",
   "execution_count": null,
   "metadata": {},
   "outputs": [],
   "source": []
  }
 ],
 "metadata": {
  "kernelspec": {
   "display_name": "Python 3",
   "language": "python",
   "name": "python3"
  },
  "language_info": {
   "codemirror_mode": {
    "name": "ipython",
    "version": 3
   },
   "file_extension": ".py",
   "mimetype": "text/x-python",
   "name": "python",
   "nbconvert_exporter": "python",
   "pygments_lexer": "ipython3",
   "version": "3.8.5"
  }
 },
 "nbformat": 4,
 "nbformat_minor": 4
}
