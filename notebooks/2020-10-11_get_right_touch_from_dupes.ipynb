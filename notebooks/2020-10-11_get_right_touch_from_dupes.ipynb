{
 "cells": [
  {
   "cell_type": "code",
   "execution_count": null,
   "metadata": {},
   "outputs": [],
   "source": [
    "import pandas as pd\n",
    "import numpy as np\n",
    "import matplotlib.pyplot as plt\n",
    "import seaborn as sns\n",
    "import dask.dataframe as dd\n",
    "from datetime import timedelta\n",
    "import tqdm\n",
    "import pickle\n",
    "import math\n",
    "\n",
    "pd.set_option('display.max_columns', None)"
   ]
  },
  {
   "cell_type": "code",
   "execution_count": null,
   "metadata": {},
   "outputs": [],
   "source": [
    "touch_headers = pd.read_csv('../data/raw/acquia_samples/scripts-headers/touch_headers.txt', delimiter='\\t')\n",
    "touch_columns = touch_headers.columns"
   ]
  },
  {
   "cell_type": "code",
   "execution_count": null,
   "metadata": {},
   "outputs": [],
   "source": [
    "# some columns look like floats at first because they are all NA, though they are strings (utm_...)\n",
    "# and dma_code looks like an int at first but has NA\n",
    "# postal_code is sometimes int (US) and sometimes a str (UK) so str is generic\n",
    "# for these we need to specify the type to read correctly\n",
    "touch = dd.read_csv('Z:\\\\touch_fixed.tsv', delimiter='\\t', encoding='utf-8',\n",
    "                    dtype={'utm_medium':str, 'utm_terms':str, 'utm_content':str, 'utm_name':str, 'url_domain':str,\n",
    "                          'dma_code':str, 'postal_code': str, 'search_terms': str, 'touch_duration.1': 'float64'},\n",
    "                    parse_dates=['touch_date', 'db_last_modified_date', 'db_last_modified_date.1'],\n",
    "                    names=touch_columns).set_index('id')"
   ]
  },
  {
   "cell_type": "code",
   "execution_count": null,
   "metadata": {},
   "outputs": [],
   "source": [
    "appears_more_than_once = pd.read_pickle('../data/processed/touch_person_appears_more_than_once.pkl')"
   ]
  },
  {
   "cell_type": "code",
   "execution_count": null,
   "metadata": {},
   "outputs": [],
   "source": [
    "appears_more_than_once.index"
   ]
  },
  {
   "cell_type": "code",
   "execution_count": null,
   "metadata": {},
   "outputs": [],
   "source": [
    "touch.index"
   ]
  },
  {
   "cell_type": "code",
   "execution_count": null,
   "metadata": {},
   "outputs": [],
   "source": [
    "touch_multiple = touch[appears_more_than_once]"
   ]
  },
  {
   "cell_type": "code",
   "execution_count": null,
   "metadata": {},
   "outputs": [],
   "source": [
    "len(touch_multiple)"
   ]
  },
  {
   "cell_type": "code",
   "execution_count": null,
   "metadata": {},
   "outputs": [],
   "source": [
    "touch_multiple = touch_multiple.drop(['custom_field'+str(i) for i in range(1,21)], axis=1)"
   ]
  },
  {
   "cell_type": "code",
   "execution_count": null,
   "metadata": {},
   "outputs": [],
   "source": [
    "with open('../data/processed/dupes_lists.pkl', 'rb') as f:\n",
    "    dupes_lists = pickle.load(f)"
   ]
  },
  {
   "cell_type": "code",
   "execution_count": null,
   "metadata": {},
   "outputs": [],
   "source": [
    "dupes_lists"
   ]
  },
  {
   "cell_type": "code",
   "execution_count": null,
   "metadata": {},
   "outputs": [],
   "source": [
    "a_repeat = touch_multiple.loc[[3881904223, 3881904227]].compute()"
   ]
  },
  {
   "cell_type": "code",
   "execution_count": null,
   "metadata": {
    "scrolled": false
   },
   "outputs": [],
   "source": [
    "a_repeat"
   ]
  },
  {
   "cell_type": "code",
   "execution_count": null,
   "metadata": {},
   "outputs": [],
   "source": [
    "print(a_repeat['number_of_page_views']"
   ]
  },
  {
   "cell_type": "code",
   "execution_count": null,
   "metadata": {},
   "outputs": [],
   "source": [
    "a_repeat['number_of_page_views'].idxmax()"
   ]
  },
  {
   "cell_type": "code",
   "execution_count": null,
   "metadata": {},
   "outputs": [],
   "source": [
    "len(dupes_lists)"
   ]
  },
  {
   "cell_type": "code",
   "execution_count": null,
   "metadata": {},
   "outputs": [],
   "source": [
    "ex = 0\n",
    "for i, l in enumerate(dupes_lists):\n",
    "    try:\n",
    "        if len(l) > 2:\n",
    "            ex += 1\n",
    "            print(touch_multiple.loc[l].compute())\n",
    "            if ex == 10:\n",
    "                break\n",
    "    except TypeError:  # elements of dupes_list are either lists or nan, so we need this hacky structure\n",
    "        continue"
   ]
  },
  {
   "cell_type": "code",
   "execution_count": null,
   "metadata": {},
   "outputs": [],
   "source": [
    "all_the_dupes = []\n",
    "for i, l in enumerate(dupes_lists):\n",
    "    try:\n",
    "        if len(l) > 2:\n",
    "            all_the_dupes += l\n",
    "    except TypeError:  # elements of dupes_list are either lists or nan, so we need this hacky structure\n",
    "        continue"
   ]
  },
  {
   "cell_type": "code",
   "execution_count": null,
   "metadata": {},
   "outputs": [],
   "source": [
    "id_deduped = pd.Series(index=dupes_lists.index, dtype='int64')"
   ]
  },
  {
   "cell_type": "code",
   "execution_count": null,
   "metadata": {},
   "outputs": [],
   "source": [
    "ex = 0\n",
    "for l in tqdm.tqdm(dupes_lists):\n",
    "    try:\n",
    "        for n in l:\n",
    "            id_deduped.loc[n] = l[0]\n",
    "    except TypeError:  # elements of dupes_list are either lists or nan, so we need this hacky structure\n",
    "        continue"
   ]
  },
  {
   "cell_type": "code",
   "execution_count": null,
   "metadata": {},
   "outputs": [],
   "source": [
    "touch_multiple['id_deduped_prelim'] = id_deduped "
   ]
  },
  {
   "cell_type": "code",
   "execution_count": null,
   "metadata": {},
   "outputs": [],
   "source": [
    "a_repeat.groupby('customer_id').agg({'number_of_page_views': pd.idxmax})"
   ]
  },
  {
   "cell_type": "code",
   "execution_count": null,
   "metadata": {},
   "outputs": [],
   "source": [
    "a_repeat.groupby('id_deduped_prelim').idxmax()['number_of_page_views']"
   ]
  },
  {
   "cell_type": "code",
   "execution_count": null,
   "metadata": {},
   "outputs": [],
   "source": [
    "a_repeat = a_repeat.sort_values('number_of_page_views', ascending=False)"
   ]
  },
  {
   "cell_type": "code",
   "execution_count": null,
   "metadata": {},
   "outputs": [],
   "source": [
    "a_repeat"
   ]
  },
  {
   "cell_type": "code",
   "execution_count": null,
   "metadata": {},
   "outputs": [],
   "source": [
    "aggregation_dict = {col: 'first' for col in a_repeat.columns}\n",
    "for field in ['touch_duration', 'touch_duration.1', 'number_of_page_views', 'touch_duration_in_seconds']:\n",
    "    aggregation_dict[field] = max\n",
    "\n",
    "a_repeat.groupby('id_deduped_prelim').agg(aggregation_dict)"
   ]
  },
  {
   "cell_type": "code",
   "execution_count": null,
   "metadata": {},
   "outputs": [],
   "source": [
    "touch_multiple.head()"
   ]
  },
  {
   "cell_type": "code",
   "execution_count": null,
   "metadata": {},
   "outputs": [],
   "source": [
    "touch_deduped = touch_multiple.groupby('id_deduped_prelim').agg(aggregation_dict)"
   ]
  },
  {
   "cell_type": "code",
   "execution_count": null,
   "metadata": {},
   "outputs": [],
   "source": [
    "touch_deduped['id'] = touch_multiple.groupby('id_deduped_prelim').idxmax()['number_of_page_views']"
   ]
  },
  {
   "cell_type": "code",
   "execution_count": null,
   "metadata": {},
   "outputs": [],
   "source": [
    "touch_deduped.to_csv('Z:\\\\touch_deduped.tsv', sep='\\t')"
   ]
  },
  {
   "cell_type": "code",
   "execution_count": null,
   "metadata": {},
   "outputs": [],
   "source": [
    "touch_deduped_pd = touch_deduped.compute()"
   ]
  },
  {
   "cell_type": "code",
   "execution_count": null,
   "metadata": {},
   "outputs": [],
   "source": [
    "touch_deduped_pd"
   ]
  },
  {
   "cell_type": "code",
   "execution_count": null,
   "metadata": {},
   "outputs": [],
   "source": [
    "counts_by_user_deduped = touch_deduped_pd.person_id.value_counts()\n",
    "appears_more_than_once_deduped = (counts_by_user_deduped[touch_deduped_pd['person_id']] > 1)\n",
    "appears_more_than_once_deduped.index = touch_deduped_pd.index\n",
    "touch_deduped_pd = touch_deduped_pd[appears_more_than_once_deduped].copy()\n",
    "touch_deduped_pd"
   ]
  },
  {
   "cell_type": "code",
   "execution_count": null,
   "metadata": {
    "scrolled": true
   },
   "outputs": [],
   "source": [
    "touch_deduped_pd.set_index('id', inplace=True)\n",
    "touch_deduped_pd.drop('id_deduped_prelim', inplace=True)"
   ]
  },
  {
   "cell_type": "code",
   "execution_count": null,
   "metadata": {},
   "outputs": [],
   "source": [
    "touch_deduped_pd.drop('id_deduped_prelim', axis=1, inplace=True)"
   ]
  },
  {
   "cell_type": "code",
   "execution_count": null,
   "metadata": {},
   "outputs": [],
   "source": [
    "touch_deduped_pd.to_csv('Z:\\\\touch_multiple_deduped.tsv', sep='\\t')"
   ]
  },
  {
   "cell_type": "code",
   "execution_count": null,
   "metadata": {},
   "outputs": [],
   "source": [
    "touch_deduped_pd"
   ]
  },
  {
   "cell_type": "code",
   "execution_count": null,
   "metadata": {},
   "outputs": [],
   "source": [
    "touch_deduped_pd.loc[3881904223]"
   ]
  },
  {
   "cell_type": "code",
   "execution_count": null,
   "metadata": {},
   "outputs": [],
   "source": [
    "touch_deduped_pd.loc[2502639089]"
   ]
  },
  {
   "cell_type": "code",
   "execution_count": null,
   "metadata": {},
   "outputs": [],
   "source": [
    "right_ids = touch_multiple.groupby('id_deduped_prelim').idxmax()['number_of_page_views'].compute()"
   ]
  },
  {
   "cell_type": "code",
   "execution_count": null,
   "metadata": {},
   "outputs": [],
   "source": [
    "right_ids"
   ]
  },
  {
   "cell_type": "code",
   "execution_count": null,
   "metadata": {},
   "outputs": [],
   "source": [
    "touch_multiple.loc[3881872905].compute()"
   ]
  },
  {
   "cell_type": "code",
   "execution_count": null,
   "metadata": {},
   "outputs": [],
   "source": [
    "touch_multiple.loc[3881872901].compute()"
   ]
  },
  {
   "cell_type": "markdown",
   "metadata": {},
   "source": [
    "The id selecting code is somehow not always working :/"
   ]
  },
  {
   "cell_type": "code",
   "execution_count": null,
   "metadata": {},
   "outputs": [],
   "source": [
    "touch_page_views = touch_multiple[['number_of_page_views']].compute()"
   ]
  },
  {
   "cell_type": "code",
   "execution_count": null,
   "metadata": {},
   "outputs": [],
   "source": [
    "id_deduped"
   ]
  },
  {
   "cell_type": "code",
   "execution_count": null,
   "metadata": {},
   "outputs": [],
   "source": [
    "right_ids_again = pd.Series(index=id_deduped.unique(), dtype='int64')"
   ]
  },
  {
   "cell_type": "code",
   "execution_count": null,
   "metadata": {},
   "outputs": [],
   "source": [
    "right_ids_again"
   ]
  },
  {
   "cell_type": "code",
   "execution_count": null,
   "metadata": {},
   "outputs": [],
   "source": [
    "for l in tqdm.tqdm(dupes_lists):\n",
    "    try:\n",
    "        id_ded = l[0]\n",
    "        id_max = touch_page_views.loc[l].idxmax().values[0]\n",
    "        right_ids_again.loc[id_ded] = id_max\n",
    "    except TypeError:  # elements of dupes_list are either lists or nan, so we need this hacky structure\n",
    "        continue"
   ]
  },
  {
   "cell_type": "code",
   "execution_count": null,
   "metadata": {},
   "outputs": [],
   "source": [
    "right_ids_again[right_ids_again != right_ids]"
   ]
  },
  {
   "cell_type": "code",
   "execution_count": null,
   "metadata": {},
   "outputs": [],
   "source": [
    "replace_dict = {right_ids[right_ids_again != right_ids].values[i]: new_val for i, new_val in \n",
    " enumerate(right_ids_again[right_ids_again != right_ids].values)}"
   ]
  },
  {
   "cell_type": "code",
   "execution_count": null,
   "metadata": {},
   "outputs": [],
   "source": [
    "replace_dict"
   ]
  },
  {
   "cell_type": "code",
   "execution_count": null,
   "metadata": {},
   "outputs": [],
   "source": [
    "touch_deduped_pd.rename(index=replace_dict, inplace=True)"
   ]
  },
  {
   "cell_type": "code",
   "execution_count": null,
   "metadata": {},
   "outputs": [],
   "source": [
    "touch_deduped_pd"
   ]
  },
  {
   "cell_type": "code",
   "execution_count": null,
   "metadata": {},
   "outputs": [],
   "source": [
    "touch_deduped_pd.drop('new_id', axis=1, inplace=True)"
   ]
  },
  {
   "cell_type": "code",
   "execution_count": null,
   "metadata": {},
   "outputs": [],
   "source": [
    "touch_deduped_pd.to_csv('Z:\\\\touch_multiple_deduped.tsv', sep='\\t')"
   ]
  },
  {
   "cell_type": "code",
   "execution_count": null,
   "metadata": {},
   "outputs": [],
   "source": [
    "appears_more_than_once = pd.read_pickle('../data/processed/person_ids_appear_more_than_once.pkl')"
   ]
  },
  {
   "cell_type": "code",
   "execution_count": null,
   "metadata": {},
   "outputs": [],
   "source": [
    "np.savetxt('../data/processed/person_ids_appear_more_than_once.csv', appears_more_than_once)"
   ]
  },
  {
   "cell_type": "code",
   "execution_count": null,
   "metadata": {},
   "outputs": [],
   "source": []
  }
 ],
 "metadata": {
  "kernelspec": {
   "display_name": "Python 3",
   "language": "python",
   "name": "python3"
  },
  "language_info": {
   "codemirror_mode": {
    "name": "ipython",
    "version": 3
   },
   "file_extension": ".py",
   "mimetype": "text/x-python",
   "name": "python",
   "nbconvert_exporter": "python",
   "pygments_lexer": "ipython3",
   "version": "3.8.5"
  }
 },
 "nbformat": 4,
 "nbformat_minor": 4
}
