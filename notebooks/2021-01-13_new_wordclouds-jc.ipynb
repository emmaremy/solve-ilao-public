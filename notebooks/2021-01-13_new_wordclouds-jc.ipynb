{
 "cells": [
  {
   "cell_type": "code",
   "execution_count": null,
   "metadata": {},
   "outputs": [],
   "source": [
    "import pandas as pd\n",
    "import numpy as np\n",
    "import seaborn as sns\n",
    "import matplotlib.pyplot as plt"
   ]
  },
  {
   "cell_type": "code",
   "execution_count": null,
   "metadata": {},
   "outputs": [],
   "source": [
    "from wordcloud import WordCloud\n",
    "from collections import Counter"
   ]
  },
  {
   "cell_type": "code",
   "execution_count": null,
   "metadata": {},
   "outputs": [],
   "source": [
    "touch = pd.read_csv(\"Z:\\\\touch_desktop_business_ppl.tsv\", sep='\\t',\n",
    "                    dtype={'utm_medium':str, 'utm_terms':str, 'utm_content':str, 'utm_name':str, 'url_domain':str,\n",
    "                          'dma_code':str, 'postal_code': str, 'search_terms': str, 'touch_duration.1': 'float64'},\n",
    "                    index_col='id')"
   ]
  },
  {
   "cell_type": "code",
   "execution_count": null,
   "metadata": {},
   "outputs": [],
   "source": [
    "search_terms = touch[~touch['search_terms'].isna()]['search_terms']\n",
    "db_word_list = [y for x in search_terms for y in x.lower().split()]"
   ]
  },
  {
   "cell_type": "code",
   "execution_count": null,
   "metadata": {},
   "outputs": [],
   "source": [
    "touch = pd.read_csv(\"Z:\\\\touch_desktop_night_ppl.tsv\", sep='\\t',\n",
    "                    dtype={'utm_medium':str, 'utm_terms':str, 'utm_content':str, 'utm_name':str, 'url_domain':str,\n",
    "                          'dma_code':str, 'postal_code': str, 'search_terms': str, 'touch_duration.1': 'float64'},\n",
    "                    index_col='id')\n",
    "search_terms = touch[~touch['search_terms'].isna()]['search_terms']\n",
    "dn_word_list = [y for x in search_terms for y in x.lower().split()]"
   ]
  },
  {
   "cell_type": "code",
   "execution_count": null,
   "metadata": {},
   "outputs": [],
   "source": [
    "touch = pd.read_csv(\"Z:\\\\touch_mobile_night_ppl.tsv\", sep='\\t',\n",
    "                    dtype={'utm_medium':str, 'utm_terms':str, 'utm_content':str, 'utm_name':str, 'url_domain':str,\n",
    "                          'dma_code':str, 'postal_code': str, 'search_terms': str, 'touch_duration.1': 'float64'},\n",
    "                    index_col='id')\n",
    "search_terms = touch[~touch['search_terms'].isna()]['search_terms']\n",
    "mn_word_list = [y for x in search_terms for y in x.lower().split()]"
   ]
  },
  {
   "cell_type": "code",
   "execution_count": null,
   "metadata": {},
   "outputs": [],
   "source": [
    "touch = pd.read_csv(\"Z:\\\\touch_mobile_business_ppl.tsv\", sep='\\t',\n",
    "                    dtype={'utm_medium':str, 'utm_terms':str, 'utm_content':str, 'utm_name':str, 'url_domain':str,\n",
    "                          'dma_code':str, 'postal_code': str, 'search_terms': str, 'touch_duration.1': 'float64'},\n",
    "                    index_col='id')\n",
    "search_terms = touch[~touch['search_terms'].isna()]['search_terms']\n",
    "mb_word_list = [y for x in search_terms for y in x.lower().split()]"
   ]
  },
  {
   "cell_type": "code",
   "execution_count": null,
   "metadata": {},
   "outputs": [],
   "source": [
    "ignore = {'the','a','an','if','in','it','of','or','to','il','illinois','legal','aid','online','ilao','chicago','cook',\n",
    "          'county','for','i','is','can','how','you','do','and','with','does','what','your','my','when','on',\n",
    "         'illinoislegalaid.org', 'get', 'have'}"
   ]
  },
  {
   "cell_type": "code",
   "execution_count": null,
   "metadata": {},
   "outputs": [],
   "source": [
    "word_count = Counter(x for x in db_word_list if x not in ignore)\n",
    "wordcloud = WordCloud(background_color='white', width = 1000, height = 500).generate_from_frequencies(word_count)\n",
    "\n",
    "plt.figure(figsize=(15,8))\n",
    "plt.imshow(wordcloud)\n",
    "plt.axis(\"off\")\n",
    "plt.tight_layout()\n",
    "plt.savefig('db_word_counts_select2.png', dpi=500)\n",
    "plt.savefig('db_word_counts_select2.pdf', dpi=500)\n",
    "plt.show()\n",
    "plt.close()"
   ]
  },
  {
   "cell_type": "code",
   "execution_count": null,
   "metadata": {},
   "outputs": [],
   "source": [
    "word_count = Counter(x for x in dn_word_list if x not in ignore)\n",
    "wordcloud = WordCloud(background_color='white', width = 1000, height = 500).generate_from_frequencies(word_count)\n",
    "\n",
    "plt.figure(figsize=(15,8))\n",
    "plt.imshow(wordcloud)\n",
    "plt.axis(\"off\")\n",
    "plt.tight_layout()\n",
    "plt.savefig('dn_word_counts_select2.png', dpi=500)\n",
    "plt.savefig('dn_word_counts_select2.pdf', dpi=500)\n",
    "plt.show()\n",
    "plt.close()"
   ]
  },
  {
   "cell_type": "code",
   "execution_count": null,
   "metadata": {},
   "outputs": [],
   "source": [
    "word_count = Counter(x for x in mb_word_list if x not in ignore)\n",
    "wordcloud = WordCloud(background_color='white', width = 1000, height = 500).generate_from_frequencies(word_count)\n",
    "\n",
    "plt.figure(figsize=(15,8))\n",
    "plt.imshow(wordcloud)\n",
    "plt.axis(\"off\")\n",
    "plt.tight_layout()\n",
    "plt.savefig('mb_word_counts_select2.png', dpi=500)\n",
    "plt.savefig('mb_word_counts_select2.pdf', dpi=500)\n",
    "plt.show()\n",
    "plt.close()"
   ]
  },
  {
   "cell_type": "code",
   "execution_count": null,
   "metadata": {},
   "outputs": [],
   "source": [
    "word_count = Counter(x for x in mn_word_list if x not in ignore)\n",
    "wordcloud = WordCloud(background_color='white', width = 1000, height = 500).generate_from_frequencies(word_count)\n",
    "\n",
    "plt.figure(figsize=(15,8))\n",
    "plt.imshow(wordcloud)\n",
    "plt.axis(\"off\")\n",
    "plt.tight_layout()\n",
    "plt.savefig('mn_word_counts_select2.png', dpi=500)\n",
    "plt.savefig('mn_word_counts_select2.pdf', dpi=500)\n",
    "plt.show()\n",
    "plt.close()"
   ]
  },
  {
   "cell_type": "code",
   "execution_count": null,
   "metadata": {},
   "outputs": [],
   "source": [
    "m_word_list = mb_word_list + mn_word_list\n",
    "d_word_list = db_word_list + dn_word_list\n",
    "b_word_list = mb_word_list + db_word_list\n",
    "n_word_list = mn_word_list + dn_word_list"
   ]
  },
  {
   "cell_type": "code",
   "execution_count": null,
   "metadata": {},
   "outputs": [],
   "source": [
    "word_count = Counter(x for x in m_word_list if x not in ignore)\n",
    "wordcloud = WordCloud(background_color='white', width = 1000, height = 500).generate_from_frequencies(word_count)\n",
    "\n",
    "plt.figure(figsize=(15,8))\n",
    "plt.imshow(wordcloud)\n",
    "plt.axis(\"off\")\n",
    "plt.tight_layout()\n",
    "plt.savefig('m_word_counts_select2.png', dpi=500)\n",
    "plt.savefig('m_word_counts_select2.pdf', dpi=500)\n",
    "plt.show()\n",
    "plt.close()"
   ]
  },
  {
   "cell_type": "code",
   "execution_count": null,
   "metadata": {},
   "outputs": [],
   "source": [
    "word_count = Counter(x for x in d_word_list if x not in ignore)\n",
    "wordcloud = WordCloud(background_color='white', width = 1000, height = 500).generate_from_frequencies(word_count)\n",
    "\n",
    "plt.figure(figsize=(15,8))\n",
    "plt.imshow(wordcloud)\n",
    "plt.axis(\"off\")\n",
    "plt.tight_layout()\n",
    "plt.savefig('d_word_counts_select2.png', dpi=500)\n",
    "plt.savefig('d_word_counts_select2.pdf', dpi=500)\n",
    "plt.show()\n",
    "plt.close()"
   ]
  },
  {
   "cell_type": "code",
   "execution_count": null,
   "metadata": {},
   "outputs": [],
   "source": [
    "word_count = Counter(x for x in b_word_list if x not in ignore)\n",
    "wordcloud = WordCloud(background_color='white', width = 1000, height = 500).generate_from_frequencies(word_count)\n",
    "\n",
    "plt.figure(figsize=(15,8))\n",
    "plt.imshow(wordcloud)\n",
    "plt.axis(\"off\")\n",
    "plt.tight_layout()\n",
    "plt.savefig('b_word_counts_select2.png', dpi=500)\n",
    "plt.savefig('b_word_counts_select2.pdf', dpi=500)\n",
    "plt.show()\n",
    "plt.close()"
   ]
  },
  {
   "cell_type": "code",
   "execution_count": null,
   "metadata": {},
   "outputs": [],
   "source": [
    "word_count = Counter(x for x in n_word_list if x not in ignore)\n",
    "wordcloud = WordCloud(background_color='white', width = 1000, height = 500).generate_from_frequencies(word_count)\n",
    "\n",
    "plt.figure(figsize=(15,8))\n",
    "plt.imshow(wordcloud)\n",
    "plt.axis(\"off\")\n",
    "plt.tight_layout()\n",
    "plt.savefig('n_word_counts_select2.png', dpi=500)\n",
    "plt.savefig('n_word_counts_select2.pdf', dpi=500)\n",
    "plt.show()\n",
    "plt.close()"
   ]
  },
  {
   "cell_type": "code",
   "execution_count": null,
   "metadata": {},
   "outputs": [],
   "source": []
  }
 ],
 "metadata": {
  "kernelspec": {
   "display_name": "Python 3",
   "language": "python",
   "name": "python3"
  },
  "language_info": {
   "codemirror_mode": {
    "name": "ipython",
    "version": 3
   },
   "file_extension": ".py",
   "mimetype": "text/x-python",
   "name": "python",
   "nbconvert_exporter": "python",
   "pygments_lexer": "ipython3",
   "version": "3.8.5"
  }
 },
 "nbformat": 4,
 "nbformat_minor": 4
}
