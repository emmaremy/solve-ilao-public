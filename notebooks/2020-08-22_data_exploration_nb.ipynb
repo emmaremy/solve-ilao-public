{
 "cells": [
  {
   "cell_type": "code",
   "execution_count": null,
   "metadata": {},
   "outputs": [],
   "source": [
    "import pandas as pd\n",
    "import numpy as np\n",
    "import matplotlib.pyplot as plt\n",
    "import seaborn as sns\n",
    "import dask.dataframe as dd\n",
    "from datetime import timedelta\n",
    "from datetime import datetime"
   ]
  },
  {
   "cell_type": "code",
   "execution_count": null,
   "metadata": {},
   "outputs": [],
   "source": [
    "pd.set_option('display.max_columns', None)"
   ]
  },
  {
   "cell_type": "code",
   "execution_count": null,
   "metadata": {},
   "outputs": [],
   "source": [
    "person_headers = pd.read_csv('../data/raw/acquia_samples/scripts-headers/person-headers.txt', delimiter='\\t')"
   ]
  },
  {
   "cell_type": "code",
   "execution_count": null,
   "metadata": {},
   "outputs": [],
   "source": [
    "person_columns = person_headers.columns"
   ]
  },
  {
   "cell_type": "code",
   "execution_count": null,
   "metadata": {},
   "outputs": [],
   "source": [
    "event_headers = pd.read_csv('../data/raw/acquia_samples/scripts-headers/event-headers.txt', delimiter='\\t')\n",
    "event_columns = event_headers.columns"
   ]
  },
  {
   "cell_type": "code",
   "execution_count": null,
   "metadata": {},
   "outputs": [],
   "source": [
    "touch_headers = pd.read_csv('../data/raw/acquia_samples/scripts-headers/touch_headers.txt', delimiter='\\t')\n",
    "touch_columns = touch_headers.columns"
   ]
  },
  {
   "cell_type": "code",
   "execution_count": null,
   "metadata": {},
   "outputs": [],
   "source": [
    "person_ranking_headers = pd.read_csv('../data/raw/acquia_samples/scripts-headers/person_ranking.tsv',\n",
    "                                     delimiter='\\t')\n",
    "person_ranking_columns = person_ranking_headers.columns"
   ]
  },
  {
   "cell_type": "code",
   "execution_count": null,
   "metadata": {},
   "outputs": [],
   "source": [
    "person_ranking_item_headers = pd.read_csv('../data/raw/acquia_samples/scripts-headers/person_ranking_item.tsv', \n",
    "                                          delimiter='\\t')\n",
    "person_ranking_item_columns = person_ranking_item_headers.columns"
   ]
  },
  {
   "cell_type": "code",
   "execution_count": null,
   "metadata": {},
   "outputs": [],
   "source": [
    "person_ranking_summary_headers = pd.read_csv('../data/raw/acquia_samples/scripts-headers/person_ranking_summary.tsv', \n",
    "                                          delimiter='\\t')\n",
    "person_ranking_summary_columns = person_ranking_summary_headers.columns"
   ]
  },
  {
   "cell_type": "code",
   "execution_count": null,
   "metadata": {},
   "outputs": [],
   "source": [
    "person_ranking_columns"
   ]
  },
  {
   "cell_type": "code",
   "execution_count": null,
   "metadata": {},
   "outputs": [],
   "source": [
    "person_ranking_summary_columns"
   ]
  },
  {
   "cell_type": "code",
   "execution_count": null,
   "metadata": {
    "scrolled": true
   },
   "outputs": [],
   "source": [
    "person_ranking_summary_headers.head()"
   ]
  },
  {
   "cell_type": "code",
   "execution_count": null,
   "metadata": {},
   "outputs": [],
   "source": []
  },
  {
   "cell_type": "markdown",
   "metadata": {},
   "source": [
    "Looks to me like the following tables have been cleaned/analyzed:\n",
    "* person_identifier\n",
    "* touch\n",
    "* matched_segment\n",
    "\n",
    "currently working on:\n",
    "* person"
   ]
  },
  {
   "cell_type": "code",
   "execution_count": null,
   "metadata": {},
   "outputs": [],
   "source": [
    "\n",
    "person_ids_gt_one_sorted = dd.read_csv('Z:\\\\person_ids_gt_one_sorted.csv',names=['person_id'], dtype={'person_id':np.float64})\n"
   ]
  },
  {
   "cell_type": "code",
   "execution_count": null,
   "metadata": {},
   "outputs": [],
   "source": [
    "person_ranking_summ_headers = \"person_id, customer_id, customer_site_id, site_name, site_external_id, column_meta_data_id, column_meta_data_name, item_name, frequency, freq_rank, last_modified_date, db_last_modified_date\".split(', ')"
   ]
  },
  {
   "cell_type": "code",
   "execution_count": null,
   "metadata": {},
   "outputs": [],
   "source": [
    "person_ranking_summ = dd.read_csv('Z:\\\\person_ranking_summary.tsv', names=person_ranking_summ_headers, delimiter='\\t',\n",
    "                                  dtype={'column_meta_data_id':np.float64, 'freq_rank':np.float64, 'frequency':np.float64, 'person_id':np.float64})"
   ]
  },
  {
   "cell_type": "code",
   "execution_count": null,
   "metadata": {
    "scrolled": false
   },
   "outputs": [],
   "source": [
    "person_ranking_summ[person_ranking_summ['person_id'].isin(person_ids_gt_one_sorted['person_id'].compute())].to_csv('Z:\\\\person_ranking_summary_filtered.tsv')"
   ]
  },
  {
   "cell_type": "code",
   "execution_count": null,
   "metadata": {},
   "outputs": [],
   "source": [
    "person_ranking_summ_filtered =  dd.read_csv('Z:\\\\prs_filtered.tsv', header=0, names= ['']+person_ranking_summ_headers, delimiter=',',\n",
    "                                  dtype={'':np.float64, 'column_meta_data_id':np.float64, 'freq_rank':np.float64, 'frequency':np.float64, 'person_id':np.float64})\n",
    "#prs_value_counts = person_ranking_summ_filtered.item_name.value_counts().compute()\n",
    "#for x in prs_value_counts.index:\n",
    "#    print(x, prs_value_counts[x])"
   ]
  },
  {
   "cell_type": "code",
   "execution_count": null,
   "metadata": {},
   "outputs": [],
   "source": [
    "person_ranking_summ_filtered = person_ranking_summ_filtered.drop_duplicates(['person_id', 'item_name'])\n"
   ]
  },
  {
   "cell_type": "code",
   "execution_count": null,
   "metadata": {},
   "outputs": [],
   "source": [
    "\n",
    "#drop duplicates of the person_id, item_id\n",
    "prs_value_counts = person_ranking_summ_filtered[person_ranking_summ_filtered['column_meta_data_id'].isin([37337, 37341, 37336, 37324, 38561, 39943, 39645])].item_name.value_counts().compute()\n",
    "for x in prs_value_counts.index:\n",
    "    print(x, prs_value_counts[x])"
   ]
  },
  {
   "cell_type": "markdown",
   "metadata": {},
   "source": [
    "## looking at the distribution of terms across people who search in en vs es"
   ]
  },
  {
   "cell_type": "code",
   "execution_count": null,
   "metadata": {},
   "outputs": [],
   "source": [
    "people_en = person_ranking_summ_filtered[person_ranking_summ_filtered['item_name'] == 'en']['person_id'].value_counts().index.compute()\n",
    "prsf_en = person_ranking_summ_filtered[person_ranking_summ_filtered['person_id'].isin(people_en)]\n",
    "\n",
    "people_es = person_ranking_summ_filtered[person_ranking_summ_filtered['item_name'] == 'es']['person_id'].value_counts().index.compute()\n",
    "prsf_es = person_ranking_summ_filtered[person_ranking_summ_filtered['person_id'].isin(people_es)]\n"
   ]
  },
  {
   "cell_type": "code",
   "execution_count": null,
   "metadata": {},
   "outputs": [],
   "source": [
    "prs_value_counts_en = prsf_en[prsf_en['column_meta_data_id'].isin([37337])].item_name.value_counts().compute()\n",
    "for x in prs_value_counts_en.index:\n",
    "    print(x, prs_value_counts_en[x])"
   ]
  },
  {
   "cell_type": "code",
   "execution_count": null,
   "metadata": {},
   "outputs": [],
   "source": [
    "prs_value_counts_es = prsf_es[prsf_es['column_meta_data_id'].isin([37337])].item_name.value_counts().compute()\n",
    "for x in prs_value_counts_es.index:\n",
    "    print(x, prs_value_counts_es[x])"
   ]
  },
  {
   "cell_type": "code",
   "execution_count": null,
   "metadata": {},
   "outputs": [],
   "source": [
    "%matplotlib inline\n",
    "\n",
    "\n",
    "prs_value_counts_en[prs_value_counts_en.index[:100]].plot(kind='bar', figsize=(20,10))\n",
    "plt.ylabel('number of people with tag')\n",
    "plt.title('Tag distribution for people with EN tag', fontsize=24)\n",
    "plt.savefig('../reports/en_tag_distribution.png')"
   ]
  },
  {
   "cell_type": "code",
   "execution_count": null,
   "metadata": {},
   "outputs": [],
   "source": [
    "%matplotlib inline\n",
    "\n",
    "prs_value_counts_es[prs_value_counts_es.index[:100]].plot(kind='bar', figsize=(20,10))\n",
    "plt.ylabel('number of people with tag')\n",
    "plt.title('Tag distribution for people with ES tag', fontsize=24)\n",
    "plt.savefig('../reports/es_tag_distribution.png')"
   ]
  },
  {
   "cell_type": "code",
   "execution_count": null,
   "metadata": {},
   "outputs": [],
   "source": []
  },
  {
   "cell_type": "code",
   "execution_count": null,
   "metadata": {},
   "outputs": [],
   "source": []
  },
  {
   "cell_type": "code",
   "execution_count": null,
   "metadata": {},
   "outputs": [],
   "source": [
    "## make a column st for every user we have their deduped names, not sorted\n",
    "\n",
    "prsf_en = prsf_en[prsf_en['column_meta_data_id'].isin([37337, 37341, 37336, 37324, 38561, 39943, 39645])]\n",
    "prsf_es = prsf_es[prsf_es['column_meta_data_id'].isin([37337, 37341, 37336, 37324, 38561, 39943, 39645])]\n",
    "\n",
    "prsf_en['combined_items'] = prsf_en['person_id']\\\n",
    "                           .apply(lambda x: \"---\".join(prsf_en[prsf_en['person_id'] == x]['item_name'].values ), meta=str).compute()"
   ]
  },
  {
   "cell_type": "code",
   "execution_count": null,
   "metadata": {},
   "outputs": [],
   "source": [
    "\n",
    "prsf_es['combined_items'] = prsf_es['person_id']\\\n",
    "                           .apply(lambda x: \"---\".join(prsf_es[prsf_es['person_id'] == x]['item_name'].values.compute() ), meta=str).compute()"
   ]
  },
  {
   "cell_type": "code",
   "execution_count": null,
   "metadata": {
    "scrolled": true
   },
   "outputs": [],
   "source": [
    "help(person_ranking_summ_filtered.drop_duplicates())"
   ]
  },
  {
   "cell_type": "code",
   "execution_count": null,
   "metadata": {},
   "outputs": [],
   "source": [
    "pd.__version__"
   ]
  },
  {
   "cell_type": "code",
   "execution_count": null,
   "metadata": {},
   "outputs": [],
   "source": [
    "import dask \n",
    "dask.__version__"
   ]
  },
  {
   "cell_type": "code",
   "execution_count": null,
   "metadata": {},
   "outputs": [],
   "source": []
  },
  {
   "cell_type": "code",
   "execution_count": null,
   "metadata": {},
   "outputs": [],
   "source": [
    "person_ranking_summ"
   ]
  },
  {
   "cell_type": "code",
   "execution_count": null,
   "metadata": {},
   "outputs": [],
   "source": [
    "prs_value_counts = person_ranking_summ.item_name.value_counts().compute()\n",
    "for x in prs_value_counts.index:\n",
    "    print(x, prs_value_counts[x])"
   ]
  },
  {
   "cell_type": "code",
   "execution_count": null,
   "metadata": {},
   "outputs": [],
   "source": []
  },
  {
   "cell_type": "code",
   "execution_count": null,
   "metadata": {},
   "outputs": [],
   "source": [
    "with open('Z:\\\\segment.tsv', 'r') as fp:\n",
    "    for line in fp:\n",
    "        print(line)"
   ]
  },
  {
   "cell_type": "code",
   "execution_count": null,
   "metadata": {},
   "outputs": [],
   "source": []
  },
  {
   "cell_type": "code",
   "execution_count": null,
   "metadata": {},
   "outputs": [],
   "source": [
    "matched_segment = dd.read_csv('Z:\\\\matched_segment.tsv', delimiter='\\t', names=['event_id', 'segment_id', 'person_id', 'event_date'],\n",
    "                             dtype={'touch1':np.int64, 'event_id':np.int64, 'touch2':np.int64})"
   ]
  },
  {
   "cell_type": "code",
   "execution_count": null,
   "metadata": {},
   "outputs": [],
   "source": [
    "matched_segment"
   ]
  },
  {
   "cell_type": "code",
   "execution_count": null,
   "metadata": {},
   "outputs": [],
   "source": [
    "len(matched_segment)\n"
   ]
  },
  {
   "cell_type": "code",
   "execution_count": null,
   "metadata": {},
   "outputs": [],
   "source": [
    "matched_segment.segment_id.value_counts().compute()"
   ]
  },
  {
   "cell_type": "code",
   "execution_count": null,
   "metadata": {},
   "outputs": [],
   "source": [
    "matched_segment.person_id.value_counts().compute()"
   ]
  },
  {
   "cell_type": "code",
   "execution_count": null,
   "metadata": {},
   "outputs": [],
   "source": [
    "'''\n",
    "touch id 1 - int64   pretty sure event_id?\n",
    "segment id   - int64  \n",
    "touch id 2 - int64   pretty sure person id?\n",
    "session date - datetime pretty sure event date?\n",
    "'''"
   ]
  },
  {
   "cell_type": "code",
   "execution_count": null,
   "metadata": {},
   "outputs": [],
   "source": [
    "with open('Z:\\\\matched_segment.tsv', 'r', encoding='utf-8') as f:\n",
    "    for i in range(2000000):\n",
    "        l = f.readline()\n",
    "        if i % 10000 == 0:\n",
    "            print(l)"
   ]
  },
  {
   "cell_type": "code",
   "execution_count": null,
   "metadata": {},
   "outputs": [],
   "source": []
  },
  {
   "cell_type": "code",
   "execution_count": null,
   "metadata": {},
   "outputs": [],
   "source": [
    "fp_out = open('Z:\\\\person_ranking_summary_filtered.tsv', 'w', encoding='utf-8')\n",
    "fp_in = open('Z:\\\\person_ranking_summary.tsv')\n",
    "fp_in.readline()\n",
    "ctr = 0\n",
    "with open('Z:\\\\person_ids_gt_one_sorted.csv', 'r') as fp:\n",
    "    for row in fp:\n",
    "        in_row = fp_in.readline()\n",
    "        #if ctr % 50000 == 0:\n",
    "        #    print(ctr)\n",
    "        #ctr+=1\n",
    "        while in_row.startswith(str(row.strip(' \\n'))):\n",
    "            fp_out.write(in_row)\n",
    "            in_row = fp_in.readline()\n",
    "            \n",
    "fp_out.close()\n",
    "            "
   ]
  },
  {
   "cell_type": "code",
   "execution_count": null,
   "metadata": {},
   "outputs": [],
   "source": []
  },
  {
   "cell_type": "code",
   "execution_count": null,
   "metadata": {},
   "outputs": [],
   "source": [
    "person_identifier = dd.read_csv('Z:\\\\person_identifier.tsv', delimiter='\\t', \n",
    "                                names=['person_id', 'customer_id', 'identifier',\n",
    "                                       'identifier_type', '?', 'active', 'last_modified',\n",
    "                                       'db_last_modified'])"
   ]
  },
  {
   "cell_type": "code",
   "execution_count": null,
   "metadata": {},
   "outputs": [],
   "source": [
    "len(person_identifier)"
   ]
  },
  {
   "cell_type": "code",
   "execution_count": null,
   "metadata": {},
   "outputs": [],
   "source": [
    "### person columns\n",
    "person_headers = '''\n",
    "id\tengagement_score\tlast_touch\tfirst_touch\tcustomer_id\tfirst_time_visitor\tsubscriber_status\tsubscription_plan\tsubscription_start_date\tsubscription_end_date\tlast_subscription_plan\tarticles_remaining\texternal_score\tprimary_identiifer\tprimary_identify_type\tunknown\tpersona\tactive\tlast_modified_date\tanonymous_visitor\tdo_not_track\tidentifiers_json\tcustom_field_1\tcustom_field_2\tcustom_field_3\tcustom_field_4\tcustom_field_5\tcustom_field_6\tcustom_field_7\tcustom_field_8\tcustom_field_9\tcustom_field_10\tcustom_field_11\tcustom_field_12\tcustom_field_13\tcustom_field_14\tcustom_field_15\tcustom_field_16\tcustom_field_17\tcustom_field_18\tcustom_field_19\tcustom_field_20\tcustom_field_21\tcustom_field_22\tcustom_field_23\tcustom_field_24\tcustom_field_25\tcustom_field_26\tcustom_field_27\tcustom_field_28\tcustom_field_29\tcustom_field_30\tcustom_field_31\tcustom_field_32\tcustom_field_33\tcustom_field_34\tcustom_field_35\tcustom_field_36\tcustom_field_37\tcustom_field_38\tcustom_field_39\tcustom_field_40\tcustom_field_41\tcustom_field_42\tcustom_field_43\tcustom_field_44\tcustom_field_45\tcustom_field_46\tcustom_field_47\tcustom_field_48\tcustom_field_49\tcustom_field_50\tunknown2\tunknown3\tdb_last_modifed_date'''.split('\\t')"
   ]
  },
  {
   "cell_type": "code",
   "execution_count": null,
   "metadata": {},
   "outputs": [],
   "source": [
    "person_headers"
   ]
  },
  {
   "cell_type": "code",
   "execution_count": null,
   "metadata": {},
   "outputs": [],
   "source": [
    "person = dd.read_csv('Z:\\\\person.tsv', delimiter='\\t', \n",
    "                                names=person_headers, \n",
    "                    dtype={'custom_field_12': 'string',\n",
    "       'custom_field_13': 'string',\n",
    "       'custom_field_4': 'string',\n",
    "       'custom_field_5': 'string',\n",
    "       'custom_field_6': 'string',\n",
    "       'custom_field_7': 'string',\n",
    "       'custom_field_10': 'string',\n",
    "       'engagement_score': 'float64',\n",
    "       'persona': 'string',\n",
    "       'unknown2': 'string',\n",
    "       'unknown3': 'string'})"
   ]
  },
  {
   "cell_type": "code",
   "execution_count": null,
   "metadata": {},
   "outputs": [],
   "source": [
    "len(person)"
   ]
  },
  {
   "cell_type": "code",
   "execution_count": null,
   "metadata": {},
   "outputs": [],
   "source": [
    "person['custom_field_35'].value_counts().compute()"
   ]
  },
  {
   "cell_type": "code",
   "execution_count": null,
   "metadata": {
    "scrolled": true
   },
   "outputs": [],
   "source": [
    "person['first_time_visitor'].value_counts().compute()#first_time_visitor"
   ]
  },
  {
   "cell_type": "code",
   "execution_count": null,
   "metadata": {
    "scrolled": true
   },
   "outputs": [],
   "source": [
    "person['anonymous_visitor'].value_counts().compute()"
   ]
  },
  {
   "cell_type": "code",
   "execution_count": null,
   "metadata": {},
   "outputs": [],
   "source": [
    "person['unknown3'].value_counts().compute()"
   ]
  },
  {
   "cell_type": "code",
   "execution_count": null,
   "metadata": {
    "scrolled": true
   },
   "outputs": [],
   "source": [
    "person['custom_field_8'].value_counts().compute()"
   ]
  },
  {
   "cell_type": "code",
   "execution_count": null,
   "metadata": {
    "scrolled": true
   },
   "outputs": [],
   "source": [
    "person['custom_field_11'].value_counts().compute()"
   ]
  },
  {
   "cell_type": "code",
   "execution_count": null,
   "metadata": {
    "scrolled": false
   },
   "outputs": [],
   "source": [
    "person['unknown2'].value_counts().compute()"
   ]
  },
  {
   "cell_type": "code",
   "execution_count": null,
   "metadata": {
    "scrolled": true
   },
   "outputs": [],
   "source": [
    "person['persona'].value_counts().compute()"
   ]
  },
  {
   "cell_type": "code",
   "execution_count": null,
   "metadata": {
    "scrolled": true
   },
   "outputs": [],
   "source": [
    "person['custom_field_10'].value_counts().compute()"
   ]
  },
  {
   "cell_type": "code",
   "execution_count": null,
   "metadata": {
    "scrolled": true
   },
   "outputs": [],
   "source": [
    "person['custom_field_7'].value_counts().compute()"
   ]
  },
  {
   "cell_type": "code",
   "execution_count": null,
   "metadata": {
    "scrolled": true
   },
   "outputs": [],
   "source": [
    "person['custom_field_6'].value_counts().compute()"
   ]
  },
  {
   "cell_type": "code",
   "execution_count": null,
   "metadata": {
    "scrolled": false
   },
   "outputs": [],
   "source": [
    "person['custom_field_5'].value_counts().compute()"
   ]
  },
  {
   "cell_type": "code",
   "execution_count": null,
   "metadata": {
    "scrolled": false
   },
   "outputs": [],
   "source": [
    "person['custom_field_4'].value_counts().compute()"
   ]
  },
  {
   "cell_type": "code",
   "execution_count": null,
   "metadata": {
    "scrolled": false
   },
   "outputs": [],
   "source": [
    "person['custom_field_13'].value_counts().compute()"
   ]
  },
  {
   "cell_type": "code",
   "execution_count": null,
   "metadata": {},
   "outputs": [],
   "source": []
  },
  {
   "cell_type": "code",
   "execution_count": null,
   "metadata": {},
   "outputs": [],
   "source": []
  },
  {
   "cell_type": "code",
   "execution_count": null,
   "metadata": {
    "scrolled": true
   },
   "outputs": [],
   "source": [
    "person['custom_field_12'].value_counts().compute()"
   ]
  },
  {
   "cell_type": "code",
   "execution_count": null,
   "metadata": {},
   "outputs": [],
   "source": [
    "import pickle as pkl"
   ]
  },
  {
   "cell_type": "code",
   "execution_count": null,
   "metadata": {},
   "outputs": [],
   "source": [
    "with open('C:\\\\Users\\dssgsolve\\Solve\\Joao\\solve-ilao\\data\\processed\\person_ids_appear_more_than_once.pkl', 'rb') as fp:\n",
    "    person_ids_gt_one = pkl.load(fp)"
   ]
  },
  {
   "cell_type": "code",
   "execution_count": null,
   "metadata": {},
   "outputs": [],
   "source": [
    "with open('Z:\\\\person_ids_gt_one_touch.csv', 'w') as fp:\n",
    "    for x in person_ids_gt_one:\n",
    "        fp.write('{}\\n'.format(x))"
   ]
  },
  {
   "cell_type": "code",
   "execution_count": null,
   "metadata": {},
   "outputs": [],
   "source": [
    "len(person_ids_gt_one)"
   ]
  },
  {
   "cell_type": "code",
   "execution_count": null,
   "metadata": {},
   "outputs": [],
   "source": [
    "event_headers = 'event_id\tcustomer_id\ttouch_ud\tperson_id\tevent_category_id\tevent_name\tengagement_score\tevent_date\tevent_category_type\tpage_url\timage_thumb_url\tcontent_type\tcontent_section\tcontent_title\toffer_id\tcampaign_id\tkeywords\tcontent_pub_date\tcapture_identifier\tempty\treferrer\tempty2\taccount_id\tevent_categort_type\tcontent_id\tcustomer_site_id\tcustomer_site_external_id\tlast_modified_date\tempty3\tempty4\tempty5\tempty6\tempty7\tdb_last_modified_date\ttimezone\tcustom_field1\tcustom_field_2\tLanguage\tOutgoing_link\tcontent_section\tdownload_link\tget-legal-help\tempty10\tempty11\trole\tcontent_type\tlegal_position\tempty15\tempty16\tempty17\tempty18\tempty19\tempty20\tempty21\tempty22\tempty23\tempty24\tempty25\tempty26\tempty27\t\t\t\t\t\t\t\t\t\t\t\t\t\t\t\t\t\t\t\t\t\t\t\t\t\t\t\t\t\t\t\t\t\t\t\t\t\t\t\t\t\t\t\tdb_last_modified_date\t'.split('\\t')"
   ]
  },
  {
   "cell_type": "code",
   "execution_count": null,
   "metadata": {
    "scrolled": false
   },
   "outputs": [],
   "source": [
    "event_headers"
   ]
  },
  {
   "cell_type": "code",
   "execution_count": null,
   "metadata": {
    "scrolled": true
   },
   "outputs": [],
   "source": [
    "with open('Z:\\\\event.tsv', 'r', encoding='utf-8') as fp:\n",
    "    print(fp.readline())"
   ]
  },
  {
   "cell_type": "code",
   "execution_count": null,
   "metadata": {},
   "outputs": [],
   "source": []
  },
  {
   "cell_type": "code",
   "execution_count": null,
   "metadata": {},
   "outputs": [],
   "source": []
  },
  {
   "cell_type": "code",
   "execution_count": null,
   "metadata": {},
   "outputs": [],
   "source": [
    "with open('Z:\\\\person.tsv', 'r', encoding='utf-8') as f:\n",
    "    #for l in f:\n",
    "    #    if '2019-03-06 18:20:08.580000' in l:\n",
    "    #        print(l)\n",
    "    #        print(l.count('\\t'))\n",
    "    for i in range(20):#range(200000):\n",
    "        l = f.readline()\n",
    "        print(l)\n",
    "        #if i % 10000 == 0:\n",
    "        #    print(l)\n",
    "    '''\n",
    "    for i in range(10000000):\n",
    "        l = f.readline()\n",
    "        n_tabs = l.count('\\t')\n",
    "        if n_tabs != 75:\n",
    "            print('Line %i has %i tabs:' % (i, n_tabs))\n",
    "            print(repr(l))\n",
    "    '''"
   ]
  },
  {
   "cell_type": "code",
   "execution_count": null,
   "metadata": {},
   "outputs": [],
   "source": [
    "with open('Z:\\\\person.tsv', 'r', encoding='utf-8') as f:\n",
    "    l = f.readline()\n",
    "    print(l)\n",
    "    print(l.split('\\t'))\n",
    "    print(l.count('\\t'))"
   ]
  },
  {
   "cell_type": "code",
   "execution_count": null,
   "metadata": {},
   "outputs": [],
   "source": [
    "print('hi')"
   ]
  },
  {
   "cell_type": "code",
   "execution_count": null,
   "metadata": {},
   "outputs": [],
   "source": [
    "# some columns look like floats at first because they are all NA, though they are strings (utm_...)\n",
    "# and dma_code looks like an int at first but has NA\n",
    "# for these we need to specify the type to read correctly\n",
    "touch = dd.read_csv('Z:\\\\touch.tsv', delimiter='\\t', encoding='utf-8',\n",
    "                    dtype={'utm_medium':str, 'utm_terms':str, 'utm_content':str, 'utm_name':str, 'url_domain':str,\n",
    "                          'dma_code':str,'customer_id': 'object',\n",
    "                                           'tbd': 'object',\n",
    "                                       'touch_duration.1': 'object'},\n",
    "                    assume_missing=True)#,\n",
    "                    #names=touch_columns)"
   ]
  },
  {
   "cell_type": "code",
   "execution_count": null,
   "metadata": {},
   "outputs": [],
   "source": [
    "len(touch)"
   ]
  },
  {
   "cell_type": "code",
   "execution_count": null,
   "metadata": {
    "scrolled": true
   },
   "outputs": [],
   "source": [
    "with open('Z:\\\\touch.tsv', 'r') as f:\n",
    "    for i in range(1000000):\n",
    "        l = f.readline()\n",
    "        if i % 10000 == 0:\n",
    "            print(l)"
   ]
  },
  {
   "cell_type": "markdown",
   "metadata": {},
   "source": [
    "even with encoding set to utf-8, we quickly see issues. For instance, a date falls on the field tbd. That date is 2019-03-04 01:54:30.000000. Could we find the lines around it and see if there's anything weird?"
   ]
  },
  {
   "cell_type": "code",
   "execution_count": null,
   "metadata": {},
   "outputs": [],
   "source": [
    "with open('Z:\\\\touch.tsv', 'r', encoding='utf-8') as f:\n",
    "    for i in range(200000):\n",
    "        l = f.readline()\n",
    "        if i % 10000 == 0:\n",
    "            print(l)"
   ]
  },
  {
   "cell_type": "code",
   "execution_count": null,
   "metadata": {},
   "outputs": [],
   "source": [
    "with open('Z:\\\\touch.tsv', 'r', encoding='utf-8') as f:\n",
    "    for i in range(160000):\n",
    "        l = f.readline()\n",
    "        if i>150000 and i % 1000 == 0:\n",
    "            print(l)"
   ]
  },
  {
   "cell_type": "code",
   "execution_count": null,
   "metadata": {},
   "outputs": [],
   "source": [
    "with open('Z:\\\\touch.tsv', 'r', encoding='utf-8') as f:\n",
    "    for i in range(10000000):\n",
    "        l = f.readline()\n",
    "        n_tabs = l.count('\\t')\n",
    "        if n_tabs != 58:\n",
    "            print('Line %i has %i tabs:' % (i, n_tabs))\n",
    "            print(repr(l))"
   ]
  },
  {
   "cell_type": "markdown",
   "metadata": {},
   "source": [
    "So, I think ^ is _very_ interesting!\n",
    "\n",
    "There are essentially two problems:\n",
    "\n",
    "1) Some fields have \\n or \\t inside quotes. That should be easy to handle!\n",
    "\n",
    "2) Some instances of the thirtieth field, whatever it is, have \\n. That seems to me harder to completely fix, and we may end up with those lines broken in two...\n",
    "\n",
    "Update after the fact: I just fixed lines by hand - mostly deleted the extra lines after some fields. Did this by printing as above and then jumping to the affected line on 010Editor."
   ]
  },
  {
   "cell_type": "code",
   "execution_count": null,
   "metadata": {},
   "outputs": [],
   "source": [
    "touch_sample = pd.read_csv('../data/raw/acquia_samples/updated_data/touch.tsv', delimiter='\\t',\n",
    "                           dtype={'utm_medium':str, 'utm_terms':str, 'utm_content':str, 'utm_name':str, 'url_domain':str,\n",
    "                                  'dma_code':str},\n",
    "                           parse_dates=['touch_date', 'db_last_modified_date', 'db_last_modified_date.1'],\n",
    "                           names=touch_columns)"
   ]
  },
  {
   "cell_type": "code",
   "execution_count": null,
   "metadata": {},
   "outputs": [],
   "source": [
    "counts_by_user = touch_sample.person_id.value_counts()"
   ]
  },
  {
   "cell_type": "code",
   "execution_count": null,
   "metadata": {},
   "outputs": [],
   "source": [
    "counts_by_user"
   ]
  },
  {
   "cell_type": "markdown",
   "metadata": {},
   "source": [
    "So, there are very few 1s, even in the sample data, which is surprising. But actually it's not: many touches get duplicated, somehow. See, for instance:"
   ]
  },
  {
   "cell_type": "code",
   "execution_count": null,
   "metadata": {},
   "outputs": [],
   "source": [
    "touch_sample[touch_sample.person_id == 2066689106]"
   ]
  },
  {
   "cell_type": "markdown",
   "metadata": {},
   "source": [
    "Three of these four are the same. So one task is to deduplicate these touches. To preserve all the data we should try to do this in a smart way, eg get the maximum duration, ignore NaN in favor of rows with that data, etc. For now I will not try to do this in a smart way -- let's try to keep just one of the rows, whichever it is.\n",
    "\n",
    "TODO: make this better."
   ]
  },
  {
   "cell_type": "code",
   "execution_count": null,
   "metadata": {},
   "outputs": [],
   "source": [
    "np.abs(touch_sample.touch_date.iloc[2782]-touch_sample.touch_date.iloc[2769])"
   ]
  },
  {
   "cell_type": "code",
   "execution_count": null,
   "metadata": {},
   "outputs": [],
   "source": [
    "touch_sample_person_ids = touch_sample.person_id.unique()"
   ]
  },
  {
   "cell_type": "code",
   "execution_count": null,
   "metadata": {},
   "outputs": [],
   "source": [
    "to_delete = pd.Series(index=touch_sample.index, dtype=bool)"
   ]
  },
  {
   "cell_type": "code",
   "execution_count": null,
   "metadata": {},
   "outputs": [],
   "source": [
    "fuzz = pd.Timedelta('00:00:01')\n",
    "for id_p in touch_sample_person_ids:\n",
    "    times = []\n",
    "    sample_one_id = touch_sample[touch_sample.person_id == id_p]\n",
    "    for idx, row in sample_one_id.iterrows():\n",
    "        this_time = row.touch_date\n",
    "        for t in times:\n",
    "            if np.abs(t-this_time) < fuzz:\n",
    "                to_delete.iloc[idx] = True\n",
    "                break\n",
    "        if not to_delete.iloc[idx]:\n",
    "            times.append(this_time)"
   ]
  },
  {
   "cell_type": "code",
   "execution_count": null,
   "metadata": {},
   "outputs": [],
   "source": [
    "np.sum(to_delete)"
   ]
  },
  {
   "cell_type": "code",
   "execution_count": null,
   "metadata": {},
   "outputs": [],
   "source": [
    "touch_sample_deduped = touch_sample[~to_delete]"
   ]
  },
  {
   "cell_type": "code",
   "execution_count": null,
   "metadata": {},
   "outputs": [],
   "source": [
    "counts_by_user = touch_sample_deduped.person_id.value_counts()"
   ]
  },
  {
   "cell_type": "code",
   "execution_count": null,
   "metadata": {},
   "outputs": [],
   "source": [
    "counts_by_user_hist = counts_by_user.value_counts()"
   ]
  },
  {
   "cell_type": "code",
   "execution_count": null,
   "metadata": {},
   "outputs": [],
   "source": [
    "touch.loc[10000].compute()"
   ]
  },
  {
   "cell_type": "code",
   "execution_count": null,
   "metadata": {},
   "outputs": [],
   "source": [
    "touch.tail()"
   ]
  },
  {
   "cell_type": "code",
   "execution_count": null,
   "metadata": {},
   "outputs": [],
   "source": [
    "touch_person_ids = touch.person_id.unique()\n",
    "to_delete = pd.Series(index=touch.index, dtype=bool)"
   ]
  },
  {
   "cell_type": "markdown",
   "metadata": {},
   "source": [
    "Some type issue which makes me thing columns go misaligned somewhere in the file? This is strange. Will investigate later. The code below won't run until that's solved:"
   ]
  },
  {
   "cell_type": "code",
   "execution_count": null,
   "metadata": {},
   "outputs": [],
   "source": [
    "fuzz = pd.Timedelta('00:00:01')\n",
    "for id_p in touch_person_ids:\n",
    "    times = []\n",
    "    sample_one_id = touch[touch.person_id == id_p]\n",
    "    for idx, row in sample_one_id.iterrows():\n",
    "        this_time = row.touch_date\n",
    "        for t in times:\n",
    "            if np.abs(t-this_time) < fuzz:\n",
    "                to_delete.iloc[idx] = True\n",
    "                break\n",
    "        if not to_delete.iloc[idx]:\n",
    "            times.append(this_time)"
   ]
  }
 ],
 "metadata": {
  "kernelspec": {
   "display_name": "Python 3",
   "language": "python",
   "name": "python3"
  },
  "language_info": {
   "codemirror_mode": {
    "name": "ipython",
    "version": 3
   },
   "file_extension": ".py",
   "mimetype": "text/x-python",
   "name": "python",
   "nbconvert_exporter": "python",
   "pygments_lexer": "ipython3",
   "version": "3.8.5"
  }
 },
 "nbformat": 4,
 "nbformat_minor": 4
}
