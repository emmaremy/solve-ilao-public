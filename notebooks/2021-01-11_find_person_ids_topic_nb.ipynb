{
 "cells": [
  {
   "cell_type": "code",
   "execution_count": null,
   "metadata": {},
   "outputs": [],
   "source": [
    "import pandas as pd\n",
    "import numpy as np\n",
    "import matplotlib.pyplot as plt\n",
    "import seaborn as sns\n",
    "import dask.dataframe as dd\n",
    "from datetime import timedelta\n",
    "from datetime import datetime"
   ]
  },
  {
   "cell_type": "code",
   "execution_count": null,
   "metadata": {},
   "outputs": [],
   "source": [
    "pd.set_option('display.max_columns', None)"
   ]
  },
  {
   "cell_type": "code",
   "execution_count": null,
   "metadata": {},
   "outputs": [],
   "source": [
    "person_headers = pd.read_csv('../data/raw/acquia_samples/scripts-headers/person-headers.txt', delimiter='\\t')"
   ]
  },
  {
   "cell_type": "code",
   "execution_count": null,
   "metadata": {},
   "outputs": [],
   "source": [
    "person_columns = person_headers.columns"
   ]
  },
  {
   "cell_type": "markdown",
   "metadata": {},
   "source": [
    "Looks to me like the following tables have been cleaned/analyzed:\n",
    "* person_identifier\n",
    "* touch\n",
    "* matched_segment\n",
    "\n",
    "currently working on:\n",
    "* person"
   ]
  },
  {
   "cell_type": "code",
   "execution_count": null,
   "metadata": {},
   "outputs": [],
   "source": [
    "\n",
    "person_ids_gt_one_sorted = dd.read_csv('Z:\\\\person_ids_gt_one_sorted.csv',names=['person_id'], dtype={'person_id':np.float64})\n",
    "person_ids_gt_one_sorted = dd.read_csv('Z:\\\\event_desktop_business_person_ids.tsv',header=0,names=['index','person_id'], dtype={'person_id':np.float64})"
   ]
  },
  {
   "cell_type": "code",
   "execution_count": null,
   "metadata": {},
   "outputs": [],
   "source": [
    "person_ids_gt_one_sorted.compute()"
   ]
  },
  {
   "cell_type": "code",
   "execution_count": null,
   "metadata": {},
   "outputs": [],
   "source": [
    "person_ranking_summ_headers = \"person_id, customer_id, customer_site_id, site_name, site_external_id, column_meta_data_id, column_meta_data_name, item_name, frequency, freq_rank, last_modified_date, db_last_modified_date\".split(', ')"
   ]
  },
  {
   "cell_type": "code",
   "execution_count": null,
   "metadata": {},
   "outputs": [],
   "source": [
    "person_ranking_summ = dd.read_csv('Z:\\\\person_ranking_summary.tsv', names=person_ranking_summ_headers, delimiter='\\t',\n",
    "                                  dtype={'column_meta_data_id':np.float64, 'freq_rank':np.float64, 'frequency':np.float64, 'person_id':np.float64})"
   ]
  },
  {
   "cell_type": "code",
   "execution_count": null,
   "metadata": {},
   "outputs": [],
   "source": [
    "person_ranking_summ[person_ranking_summ['person_id'].isin(person_ids_gt_one_sorted['person_id'].compute())].to_csv('Z:\\\\person_ranking_summary_desktop_business.tsv')"
   ]
  },
  {
   "cell_type": "code",
   "execution_count": null,
   "metadata": {
    "scrolled": true
   },
   "outputs": [],
   "source": [
    "person_ranking_summ[person_ranking_summ['person_id'].isin(person_ids_gt_one_sorted['person_id'].compute())].to_csv('Z:\\\\person_ranking_summary_filtered.tsv')"
   ]
  },
  {
   "cell_type": "code",
   "execution_count": null,
   "metadata": {},
   "outputs": [],
   "source": [
    "person_ranking_summ_filtered =  dd.read_csv('Z:\\\\person_ranking_summary_desktop_business.tsv\\*', header=0, names= ['']+person_ranking_summ_headers, delimiter=',',\n",
    "                                  dtype={'':np.float64, 'column_meta_data_id':np.float64, 'freq_rank':np.float64, 'frequency':np.float64, 'person_id':np.float64})\n",
    "#prs_value_counts = person_ranking_summ_filtered.item_name.value_counts().compute()\n",
    "#for x in prs_value_counts.index:\n",
    "#    print(x, prs_value_counts[x])"
   ]
  },
  {
   "cell_type": "code",
   "execution_count": null,
   "metadata": {},
   "outputs": [],
   "source": [
    "person_ranking_summ_filtered = person_ranking_summ_filtered.drop_duplicates(['person_id', 'item_name'])\n"
   ]
  },
  {
   "cell_type": "code",
   "execution_count": null,
   "metadata": {},
   "outputs": [],
   "source": [
    "person_ranking_summ_filtered[person_ranking_summ_filtered['item_name'] == 'Landlord/Tenant']['person_id'].compute().to_csv('Z:\\\\person_id_landlord_tenant.csv')"
   ]
  },
  {
   "cell_type": "code",
   "execution_count": null,
   "metadata": {},
   "outputs": [],
   "source": [
    "\n",
    "#drop duplicates of the person_id, item_id\n",
    "# 37337, 37341, 37336, 37324, 38561, 39943, 39645\n",
    "prs_value_counts = person_ranking_summ_filtered[person_ranking_summ_filtered['column_meta_data_id'].isin([37337])].item_name.value_counts().compute()\n",
    "for x in prs_value_counts.index:\n",
    "    print(x, prs_value_counts[x])"
   ]
  },
  {
   "cell_type": "code",
   "execution_count": null,
   "metadata": {},
   "outputs": [],
   "source": []
  },
  {
   "cell_type": "code",
   "execution_count": null,
   "metadata": {},
   "outputs": [],
   "source": [
    "%matplotlib inline\n",
    "\n",
    "\n",
    "prs_value_counts[prs_value_counts.index[:100]].plot(kind='bar', figsize=(20,10))\n",
    "plt.ylabel('number of people with tag')\n",
    "plt.title('Tag distribution for people on desktop during business hours', fontsize=24)\n",
    "plt.savefig('../reports/desktop_business_tag_distribution.png')"
   ]
  },
  {
   "cell_type": "code",
   "execution_count": null,
   "metadata": {},
   "outputs": [],
   "source": []
  },
  {
   "cell_type": "markdown",
   "metadata": {},
   "source": [
    "## looking at the distribution of terms across people who search in en vs es"
   ]
  },
  {
   "cell_type": "code",
   "execution_count": null,
   "metadata": {},
   "outputs": [],
   "source": [
    "people_en = person_ranking_summ_filtered[person_ranking_summ_filtered['item_name'] == 'en']['person_id'].value_counts().index.compute()\n",
    "prsf_en = person_ranking_summ_filtered[person_ranking_summ_filtered['person_id'].isin(people_en)]\n",
    "\n",
    "people_es = person_ranking_summ_filtered[person_ranking_summ_filtered['item_name'] == 'es']['person_id'].value_counts().index.compute()\n",
    "prsf_es = person_ranking_summ_filtered[person_ranking_summ_filtered['person_id'].isin(people_es)]\n"
   ]
  },
  {
   "cell_type": "code",
   "execution_count": null,
   "metadata": {},
   "outputs": [],
   "source": [
    "prs_value_counts_en = prsf_en[prsf_en['column_meta_data_id'].isin([37337])].item_name.value_counts().compute()\n",
    "for x in prs_value_counts_en.index:\n",
    "    print(x, prs_value_counts_en[x])"
   ]
  },
  {
   "cell_type": "code",
   "execution_count": null,
   "metadata": {},
   "outputs": [],
   "source": [
    "prs_value_counts_es = prsf_es[prsf_es['column_meta_data_id'].isin([37337])].item_name.value_counts().compute()\n",
    "for x in prs_value_counts_es.index:\n",
    "    print(x, prs_value_counts_es[x])"
   ]
  },
  {
   "cell_type": "code",
   "execution_count": null,
   "metadata": {},
   "outputs": [],
   "source": [
    "%matplotlib inline\n",
    "\n",
    "\n",
    "prs_value_counts_en[prs_value_counts_en.index[:100]].plot(kind='bar', figsize=(20,10))\n",
    "plt.ylabel('number of people with tag')\n",
    "plt.title('Tag distribution for people with EN tag', fontsize=24)\n",
    "plt.savefig('../reports/en_tag_distribution.png')"
   ]
  },
  {
   "cell_type": "code",
   "execution_count": null,
   "metadata": {},
   "outputs": [],
   "source": [
    "%matplotlib inline\n",
    "\n",
    "prs_value_counts_es[prs_value_counts_es.index[:100]].plot(kind='bar', figsize=(20,10))\n",
    "plt.ylabel('number of people with tag')\n",
    "plt.title('Tag distribution for people with ES tag', fontsize=24)\n",
    "plt.savefig('../reports/es_tag_distribution.png')"
   ]
  },
  {
   "cell_type": "code",
   "execution_count": null,
   "metadata": {},
   "outputs": [],
   "source": []
  },
  {
   "cell_type": "code",
   "execution_count": null,
   "metadata": {},
   "outputs": [],
   "source": []
  },
  {
   "cell_type": "code",
   "execution_count": null,
   "metadata": {},
   "outputs": [],
   "source": [
    "## make a column st for every user we have their deduped names, not sorted\n",
    "\n",
    "prsf_en = prsf_en[prsf_en['column_meta_data_id'].isin([37337, 37341, 37336, 37324, 38561, 39943, 39645])]\n",
    "prsf_es = prsf_es[prsf_es['column_meta_data_id'].isin([37337, 37341, 37336, 37324, 38561, 39943, 39645])]\n",
    "\n",
    "prsf_en['combined_items'] = prsf_en['person_id']\\\n",
    "                           .apply(lambda x: \"---\".join(prsf_en[prsf_en['person_id'] == x]['item_name'].values ), meta=str).compute()"
   ]
  },
  {
   "cell_type": "code",
   "execution_count": null,
   "metadata": {},
   "outputs": [],
   "source": [
    "\n",
    "prsf_es['combined_items'] = prsf_es['person_id']\\\n",
    "                           .apply(lambda x: \"---\".join(prsf_es[prsf_es['person_id'] == x]['item_name'].values.compute() ), meta=str).compute()"
   ]
  },
  {
   "cell_type": "code",
   "execution_count": null,
   "metadata": {
    "scrolled": true
   },
   "outputs": [],
   "source": [
    "help(person_ranking_summ_filtered.drop_duplicates())"
   ]
  },
  {
   "cell_type": "code",
   "execution_count": null,
   "metadata": {},
   "outputs": [],
   "source": [
    "pd.__version__"
   ]
  },
  {
   "cell_type": "code",
   "execution_count": null,
   "metadata": {},
   "outputs": [],
   "source": [
    "import dask \n",
    "dask.__version__"
   ]
  },
  {
   "cell_type": "code",
   "execution_count": null,
   "metadata": {},
   "outputs": [],
   "source": []
  },
  {
   "cell_type": "code",
   "execution_count": null,
   "metadata": {},
   "outputs": [],
   "source": [
    "person_ranking_summ"
   ]
  },
  {
   "cell_type": "code",
   "execution_count": null,
   "metadata": {},
   "outputs": [],
   "source": [
    "prs_value_counts = person_ranking_summ.item_name.value_counts().compute()\n",
    "for x in prs_value_counts.index:\n",
    "    print(x, prs_value_counts[x])"
   ]
  },
  {
   "cell_type": "code",
   "execution_count": null,
   "metadata": {},
   "outputs": [],
   "source": []
  },
  {
   "cell_type": "code",
   "execution_count": null,
   "metadata": {},
   "outputs": [],
   "source": [
    "with open('Z:\\\\segment.tsv', 'r') as fp:\n",
    "    for line in fp:\n",
    "        print(line)"
   ]
  },
  {
   "cell_type": "code",
   "execution_count": null,
   "metadata": {},
   "outputs": [],
   "source": []
  },
  {
   "cell_type": "code",
   "execution_count": null,
   "metadata": {},
   "outputs": [],
   "source": [
    "matched_segment = dd.read_csv('Z:\\\\matched_segment.tsv', delimiter='\\t', names=['event_id', 'segment_id', 'person_id', 'event_date'],\n",
    "                             dtype={'touch1':np.int64, 'event_id':np.int64, 'touch2':np.int64})"
   ]
  },
  {
   "cell_type": "code",
   "execution_count": null,
   "metadata": {},
   "outputs": [],
   "source": [
    "matched_segment"
   ]
  },
  {
   "cell_type": "code",
   "execution_count": null,
   "metadata": {},
   "outputs": [],
   "source": [
    "len(matched_segment)\n"
   ]
  },
  {
   "cell_type": "code",
   "execution_count": null,
   "metadata": {},
   "outputs": [],
   "source": [
    "matched_segment.segment_id.value_counts().compute()"
   ]
  },
  {
   "cell_type": "code",
   "execution_count": null,
   "metadata": {},
   "outputs": [],
   "source": [
    "matched_segment.person_id.value_counts().compute()"
   ]
  },
  {
   "cell_type": "code",
   "execution_count": null,
   "metadata": {},
   "outputs": [],
   "source": [
    "'''\n",
    "touch id 1 - int64   pretty sure event_id?\n",
    "segment id   - int64  \n",
    "touch id 2 - int64   pretty sure person id?\n",
    "session date - datetime pretty sure event date?\n",
    "'''"
   ]
  },
  {
   "cell_type": "code",
   "execution_count": null,
   "metadata": {},
   "outputs": [],
   "source": [
    "with open('Z:\\\\matched_segment.tsv', 'r', encoding='utf-8') as f:\n",
    "    for i in range(2000000):\n",
    "        l = f.readline()\n",
    "        if i % 10000 == 0:\n",
    "            print(l)"
   ]
  },
  {
   "cell_type": "code",
   "execution_count": null,
   "metadata": {},
   "outputs": [],
   "source": []
  },
  {
   "cell_type": "code",
   "execution_count": null,
   "metadata": {},
   "outputs": [],
   "source": [
    "fp_out = open('Z:\\\\person_ranking_summary_filtered.tsv', 'w', encoding='utf-8')\n",
    "fp_in = open('Z:\\\\person_ranking_summary.tsv')\n",
    "fp_in.readline()\n",
    "ctr = 0\n",
    "with open('Z:\\\\person_ids_gt_one_sorted.csv', 'r') as fp:\n",
    "    for row in fp:\n",
    "        in_row = fp_in.readline()\n",
    "        #if ctr % 50000 == 0:\n",
    "        #    print(ctr)\n",
    "        #ctr+=1\n",
    "        while in_row.startswith(str(row.strip(' \\n'))):\n",
    "            fp_out.write(in_row)\n",
    "            in_row = fp_in.readline()\n",
    "            \n",
    "fp_out.close()\n",
    "            "
   ]
  },
  {
   "cell_type": "code",
   "execution_count": null,
   "metadata": {},
   "outputs": [],
   "source": []
  },
  {
   "cell_type": "code",
   "execution_count": null,
   "metadata": {},
   "outputs": [],
   "source": [
    "person_identifier = dd.read_csv('Z:\\\\person_identifier.tsv', delimiter='\\t', \n",
    "                                names=['person_id', 'customer_id', 'identifier',\n",
    "                                       'identifier_type', '?', 'active', 'last_modified',\n",
    "                                       'db_last_modified'])"
   ]
  },
  {
   "cell_type": "code",
   "execution_count": null,
   "metadata": {},
   "outputs": [],
   "source": [
    "len(person_identifier)"
   ]
  },
  {
   "cell_type": "code",
   "execution_count": null,
   "metadata": {},
   "outputs": [],
   "source": [
    "### person columns\n",
    "person_headers = '''\n",
    "id\tengagement_score\tlast_touch\tfirst_touch\tcustomer_id\tfirst_time_visitor\tsubscriber_status\tsubscription_plan\tsubscription_start_date\tsubscription_end_date\tlast_subscription_plan\tarticles_remaining\texternal_score\tprimary_identiifer\tprimary_identify_type\tunknown\tpersona\tactive\tlast_modified_date\tanonymous_visitor\tdo_not_track\tidentifiers_json\tcustom_field_1\tcustom_field_2\tcustom_field_3\tcustom_field_4\tcustom_field_5\tcustom_field_6\tcustom_field_7\tcustom_field_8\tcustom_field_9\tcustom_field_10\tcustom_field_11\tcustom_field_12\tcustom_field_13\tcustom_field_14\tcustom_field_15\tcustom_field_16\tcustom_field_17\tcustom_field_18\tcustom_field_19\tcustom_field_20\tcustom_field_21\tcustom_field_22\tcustom_field_23\tcustom_field_24\tcustom_field_25\tcustom_field_26\tcustom_field_27\tcustom_field_28\tcustom_field_29\tcustom_field_30\tcustom_field_31\tcustom_field_32\tcustom_field_33\tcustom_field_34\tcustom_field_35\tcustom_field_36\tcustom_field_37\tcustom_field_38\tcustom_field_39\tcustom_field_40\tcustom_field_41\tcustom_field_42\tcustom_field_43\tcustom_field_44\tcustom_field_45\tcustom_field_46\tcustom_field_47\tcustom_field_48\tcustom_field_49\tcustom_field_50\tunknown2\tunknown3\tdb_last_modifed_date'''.split('\\t')"
   ]
  },
  {
   "cell_type": "code",
   "execution_count": null,
   "metadata": {},
   "outputs": [],
   "source": [
    "person_headers"
   ]
  },
  {
   "cell_type": "code",
   "execution_count": null,
   "metadata": {},
   "outputs": [],
   "source": [
    "with open('Z:\\\\event.tsv', 'r', encoding='utf-8') as fp:\n",
    "    print(fp.readline())"
   ]
  },
  {
   "cell_type": "code",
   "execution_count": null,
   "metadata": {},
   "outputs": [],
   "source": [
    "with open('Z:\\\\event_desktop_business_ppl.tsv', 'r') as fp:\n",
    "    event_headers = fp.readline().split('\\t')"
   ]
  },
  {
   "cell_type": "code",
   "execution_count": null,
   "metadata": {},
   "outputs": [],
   "source": [
    "event_df_pro = dd.read_csv('Z:\\\\event_desktop_business_ppl.tsv', delimiter='\\t', \n",
    "                                names=event_headers)"
   ]
  },
  {
   "cell_type": "code",
   "execution_count": null,
   "metadata": {},
   "outputs": [],
   "source": [
    "event_df_cas = dd.read_csv('Z:\\\\event_mobile_night_ppl.tsv', delimiter='\\t', \n",
    "                                names=event_headers)"
   ]
  },
  {
   "cell_type": "code",
   "execution_count": null,
   "metadata": {},
   "outputs": [],
   "source": [
    "pd.Series(event_df_pro['person_id'].value_counts().index.compute()).to_csv('Z:\\\\event_desktop_business_person_ids.tsv')"
   ]
  },
  {
   "cell_type": "code",
   "execution_count": null,
   "metadata": {},
   "outputs": [],
   "source": [
    "pd.Series(event_df_cas['person_id'].value_counts().index.compute()).to_csv('Z:\\\\event_mobile_night_person_ids.tsv')"
   ]
  },
  {
   "cell_type": "code",
   "execution_count": null,
   "metadata": {},
   "outputs": [],
   "source": []
  },
  {
   "cell_type": "code",
   "execution_count": null,
   "metadata": {},
   "outputs": [],
   "source": []
  },
  {
   "cell_type": "code",
   "execution_count": null,
   "metadata": {},
   "outputs": [],
   "source": []
  },
  {
   "cell_type": "code",
   "execution_count": null,
   "metadata": {},
   "outputs": [],
   "source": []
  }
 ],
 "metadata": {
  "kernelspec": {
   "display_name": "Python 3",
   "language": "python",
   "name": "python3"
  },
  "language_info": {
   "codemirror_mode": {
    "name": "ipython",
    "version": 3
   },
   "file_extension": ".py",
   "mimetype": "text/x-python",
   "name": "python",
   "nbconvert_exporter": "python",
   "pygments_lexer": "ipython3",
   "version": "3.8.0"
  }
 },
 "nbformat": 4,
 "nbformat_minor": 4
}
