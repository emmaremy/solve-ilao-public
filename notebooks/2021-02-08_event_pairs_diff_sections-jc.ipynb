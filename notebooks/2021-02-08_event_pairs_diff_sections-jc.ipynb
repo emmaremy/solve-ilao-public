{
 "cells": [
  {
   "cell_type": "code",
   "execution_count": null,
   "metadata": {},
   "outputs": [],
   "source": [
    "import pandas as pd\n",
    "import numpy as np\n",
    "import matplotlib.pyplot as plt\n",
    "import seaborn as sns\n",
    "from datetime import timedelta\n",
    "import tqdm\n",
    "import pickle\n",
    "import math\n",
    "from collections import Counter\n",
    "\n",
    "pd.set_option('display.max_columns', None)"
   ]
  },
  {
   "cell_type": "code",
   "execution_count": null,
   "metadata": {},
   "outputs": [],
   "source": [
    "mobile = pd.read_csv('Z:\\\\event_mobile_ppl.tsv', sep='\\t',\n",
    "                    dtype={'account_id': str, 'content_section.1': str, 'download_link': str, 'role': str,\n",
    "                         'get-legal-help': str, 'keywords': str, 'Outgoing_link': str, 'Language': str,\n",
    "                         'legal_position': str}, \n",
    "                     parse_dates=['event_date'],\n",
    "                     index_col='event_id')"
   ]
  },
  {
   "cell_type": "code",
   "execution_count": null,
   "metadata": {},
   "outputs": [],
   "source": [
    "mobile_contsect = mobile[~mobile['content_section'].isna()].copy()"
   ]
  },
  {
   "cell_type": "code",
   "execution_count": null,
   "metadata": {},
   "outputs": [],
   "source": [
    "mobile_contsect['page_meta'] = list(zip(*[mobile_contsect[c] for c in ['page_url', 'content_section', 'event_date']]))"
   ]
  },
  {
   "cell_type": "code",
   "execution_count": null,
   "metadata": {},
   "outputs": [],
   "source": [
    "not_procedure = mobile_contsect[mobile_contsect.content_section != 'Procedure']"
   ]
  },
  {
   "cell_type": "code",
   "execution_count": null,
   "metadata": {},
   "outputs": [],
   "source": [
    "event_date = not_procedure.groupby('person_id').agg({'page_meta': \n",
    "                                              lambda x: set(tuple((a[0], b[0])) for a in x for b in x \n",
    "                                                            if ((b[2] - a[2] > pd.Timedelta('24:00:00')) and\n",
    "                                                               (a[1] != b[1])))})"
   ]
  },
  {
   "cell_type": "code",
   "execution_count": null,
   "metadata": {},
   "outputs": [],
   "source": [
    "pair_causal_counts = Counter([x for a in event_date.page_meta for x in list(a)])\n",
    "pair_causal_counts.most_common()"
   ]
  },
  {
   "cell_type": "code",
   "execution_count": null,
   "metadata": {},
   "outputs": [],
   "source": [
    "not_procedure[not_procedure['page_url'] == 'https://www.illinoislegalaid.org/legal-information/responding-order-protection-case']"
   ]
  },
  {
   "cell_type": "code",
   "execution_count": null,
   "metadata": {},
   "outputs": [],
   "source": [
    "mobile['page_date'] = list(zip(*[mobile[c] for c in ['page_url', 'event_date']]))"
   ]
  },
  {
   "cell_type": "code",
   "execution_count": null,
   "metadata": {},
   "outputs": [],
   "source": [
    "event_date = mobile.groupby('person_id').agg({'page_date': \n",
    "        lambda x: [(b[1] - a[1])/pd.Timedelta('24:00:00') for a in x for b in x\n",
    "            if ((a[0] == 'https://www.illinoislegalaid.org/legal-information/how-much-money-can-i-make-and-still-get-snap-benefits')\n",
    "            and (b[0] == 'https://www.illinoislegalaid.org/legal-information/am-i-eligible-medicaid'))]})"
   ]
  },
  {
   "cell_type": "code",
   "execution_count": null,
   "metadata": {},
   "outputs": [],
   "source": [
    "time_btw_visits = [x for a in event_date.page_date for x in list(a)]"
   ]
  },
  {
   "cell_type": "code",
   "execution_count": null,
   "metadata": {},
   "outputs": [],
   "source": [
    "time_btw_visits"
   ]
  },
  {
   "cell_type": "code",
   "execution_count": null,
   "metadata": {},
   "outputs": [],
   "source": [
    "event_date_sec = not_procedure.groupby('person_id').agg({'page_meta': \n",
    "        lambda x: [(b[2] - a[2])/pd.Timedelta('24:00:00') for a in x for b in x\n",
    "            if ((a[0] == 'https://www.illinoislegalaid.org/legal-information/how-much-money-can-i-make-and-still-get-snap-benefits')\n",
    "            and (b[0] == 'https://www.illinoislegalaid.org/legal-information/am-i-eligible-medicaid'))]})"
   ]
  },
  {
   "cell_type": "code",
   "execution_count": null,
   "metadata": {},
   "outputs": [],
   "source": [
    "time_btw_visits_sec = [x for a in event_date_sec.page_meta for x in list(a)]"
   ]
  },
  {
   "cell_type": "code",
   "execution_count": null,
   "metadata": {},
   "outputs": [],
   "source": [
    "time_btw_visits_sec"
   ]
  },
  {
   "cell_type": "code",
   "execution_count": null,
   "metadata": {},
   "outputs": [],
   "source": [
    "plt.hist(time_btw_visits_sec, bins=20)"
   ]
  },
  {
   "cell_type": "code",
   "execution_count": null,
   "metadata": {},
   "outputs": [],
   "source": []
  }
 ],
 "metadata": {
  "kernelspec": {
   "display_name": "Python 3",
   "language": "python",
   "name": "python3"
  },
  "language_info": {
   "codemirror_mode": {
    "name": "ipython",
    "version": 3
   },
   "file_extension": ".py",
   "mimetype": "text/x-python",
   "name": "python",
   "nbconvert_exporter": "python",
   "pygments_lexer": "ipython3",
   "version": "3.8.5"
  }
 },
 "nbformat": 4,
 "nbformat_minor": 4
}
